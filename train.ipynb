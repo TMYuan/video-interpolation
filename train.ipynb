{
 "cells": [
  {
   "cell_type": "code",
   "execution_count": 1,
   "metadata": {},
   "outputs": [],
   "source": [
    "import logging\n",
    "import torch\n",
    "import torch.optim as optim\n",
    "import torch.nn as nn\n",
    "import torch.nn.functional as F\n",
    "import argparse\n",
    "import os\n",
    "import random\n",
    "import numpy as np\n",
    "from torch.autograd import Variable\n",
    "from torch.utils.data import DataLoader\n",
    "import utils\n",
    "import itertools\n",
    "from tqdm import tqdm_notebook\n",
    "import models.dcgan_unet_64 as dcgan_unet_models\n",
    "import models.dcgan_64 as dcgan_models\n",
    "import models.classifiers as classifiers\n",
    "import models.my_model as my_model\n",
    "from data.moving_mnist import MovingMNIST"
   ]
  },
  {
   "cell_type": "code",
   "execution_count": 2,
   "metadata": {},
   "outputs": [],
   "source": [
    "torch.cuda.set_device(0)"
   ]
  },
  {
   "cell_type": "markdown",
   "metadata": {},
   "source": [
    "Constant definition"
   ]
  },
  {
   "cell_type": "code",
   "execution_count": 3,
   "metadata": {},
   "outputs": [],
   "source": [
    "np.random.seed(1)\n",
    "random.seed(1)\n",
    "torch.manual_seed(1)\n",
    "torch.cuda.manual_seed_all(1)\n",
    "device = torch.device(\"cuda\" if torch.cuda.is_available() else \"cpu\")"
   ]
  },
  {
   "cell_type": "code",
   "execution_count": 4,
   "metadata": {},
   "outputs": [],
   "source": [
    "lr = 2e-3\n",
    "seq_len = 12\n",
    "beta1 = 0.5\n",
    "content_dim = 128\n",
    "pose_dim = 10\n",
    "channels = 3\n",
    "normalize = False\n",
    "sd_nf = 100\n",
    "image_width = 64\n",
    "batch_size = 100\n",
    "log_dir = './logs/0522_my_model_CVAE_ourDisc_newPair/'\n",
    "os.makedirs(os.path.join(log_dir, 'rec'), exist_ok=True)\n",
    "os.makedirs(os.path.join(log_dir, 'analogy'), exist_ok=True)\n",
    "logging.basicConfig(filename=os.path.join(log_dir, 'record.txt'), level=logging.DEBUG)"
   ]
  },
  {
   "cell_type": "markdown",
   "metadata": {},
   "source": [
    "Data Loader"
   ]
  },
  {
   "cell_type": "code",
   "execution_count": 5,
   "metadata": {},
   "outputs": [],
   "source": [
    "train_data = MovingMNIST(True, '../data_uni/', seq_len=seq_len)\n",
    "test_data = MovingMNIST(False, '../data_uni/', seq_len=seq_len)\n",
    "\n",
    "train_loader = DataLoader(\n",
    "    train_data,\n",
    "    batch_size=batch_size,\n",
    "    num_workers=16,\n",
    "    shuffle=True,\n",
    "    drop_last=True,\n",
    "    pin_memory=True\n",
    ")\n",
    "test_loader = DataLoader(\n",
    "    test_data,\n",
    "    batch_size=batch_size,\n",
    "    num_workers=0,\n",
    "    shuffle=True,\n",
    "    drop_last=True,\n",
    "    pin_memory=True\n",
    ")"
   ]
  },
  {
   "cell_type": "markdown",
   "metadata": {},
   "source": [
    "Model definition"
   ]
  },
  {
   "cell_type": "code",
   "execution_count": 6,
   "metadata": {},
   "outputs": [
    {
     "name": "stdout",
     "output_type": "stream",
     "text": [
      "content_encoder(\n",
      "  (main): Sequential(\n",
      "    (0): dcgan_conv(\n",
      "      (main): Sequential(\n",
      "        (0): Conv2d(3, 64, kernel_size=(4, 4), stride=(2, 2), padding=(1, 1), bias=False)\n",
      "        (1): BatchNorm2d(64, eps=1e-05, momentum=0.1, affine=True, track_running_stats=True)\n",
      "        (2): ReLU(inplace)\n",
      "      )\n",
      "    )\n",
      "    (1): dcgan_conv(\n",
      "      (main): Sequential(\n",
      "        (0): Conv2d(64, 128, kernel_size=(4, 4), stride=(2, 2), padding=(1, 1), bias=False)\n",
      "        (1): BatchNorm2d(128, eps=1e-05, momentum=0.1, affine=True, track_running_stats=True)\n",
      "        (2): ReLU(inplace)\n",
      "      )\n",
      "    )\n",
      "    (2): dcgan_conv(\n",
      "      (main): Sequential(\n",
      "        (0): Conv2d(128, 256, kernel_size=(4, 4), stride=(2, 2), padding=(1, 1), bias=False)\n",
      "        (1): BatchNorm2d(256, eps=1e-05, momentum=0.1, affine=True, track_running_stats=True)\n",
      "        (2): ReLU(inplace)\n",
      "      )\n",
      "    )\n",
      "    (3): dcgan_conv(\n",
      "      (main): Sequential(\n",
      "        (0): Conv2d(256, 512, kernel_size=(4, 4), stride=(2, 2), padding=(1, 1), bias=False)\n",
      "        (1): BatchNorm2d(512, eps=1e-05, momentum=0.1, affine=True, track_running_stats=True)\n",
      "        (2): ReLU(inplace)\n",
      "      )\n",
      "    )\n",
      "    (4): Conv2d(512, 128, kernel_size=(4, 4), stride=(1, 1))\n",
      "    (5): BatchNorm2d(128, eps=1e-05, momentum=0.1, affine=True, track_running_stats=True)\n",
      "    (6): Tanh()\n",
      "  )\n",
      ")\n",
      "pose_encoder(\n",
      "  (c1): dcgan_conv(\n",
      "    (main): Sequential(\n",
      "      (0): Conv2d(5, 64, kernel_size=(4, 4), stride=(2, 2), padding=(1, 1), bias=False)\n",
      "      (1): BatchNorm2d(64, eps=1e-05, momentum=0.1, affine=True, track_running_stats=True)\n",
      "      (2): ReLU(inplace)\n",
      "    )\n",
      "  )\n",
      "  (c2): dcgan_conv(\n",
      "    (main): Sequential(\n",
      "      (0): Conv2d(66, 128, kernel_size=(4, 4), stride=(2, 2), padding=(1, 1), bias=False)\n",
      "      (1): BatchNorm2d(128, eps=1e-05, momentum=0.1, affine=True, track_running_stats=True)\n",
      "      (2): ReLU(inplace)\n",
      "    )\n",
      "  )\n",
      "  (c3): dcgan_conv(\n",
      "    (main): Sequential(\n",
      "      (0): Conv2d(130, 256, kernel_size=(4, 4), stride=(2, 2), padding=(1, 1), bias=False)\n",
      "      (1): BatchNorm2d(256, eps=1e-05, momentum=0.1, affine=True, track_running_stats=True)\n",
      "      (2): ReLU(inplace)\n",
      "    )\n",
      "  )\n",
      "  (c4): dcgan_conv(\n",
      "    (main): Sequential(\n",
      "      (0): Conv2d(258, 512, kernel_size=(4, 4), stride=(2, 2), padding=(1, 1), bias=False)\n",
      "      (1): BatchNorm2d(512, eps=1e-05, momentum=0.1, affine=True, track_running_stats=True)\n",
      "      (2): ReLU(inplace)\n",
      "    )\n",
      "  )\n",
      "  (c5): Sequential(\n",
      "    (0): Conv2d(514, 10, kernel_size=(4, 4), stride=(1, 1))\n",
      "    (1): BatchNorm2d(10, eps=1e-05, momentum=0.1, affine=True, track_running_stats=True)\n",
      "    (2): Tanh()\n",
      "  )\n",
      ")\n",
      "decoder(\n",
      "  (main): Sequential(\n",
      "    (0): ConvTranspose2d(138, 512, kernel_size=(4, 4), stride=(1, 1), bias=False)\n",
      "    (1): BatchNorm2d(512, eps=1e-05, momentum=0.1, affine=True, track_running_stats=True)\n",
      "    (2): ReLU(inplace)\n",
      "    (3): dcgan_upconv(\n",
      "      (main): Sequential(\n",
      "        (0): ConvTranspose2d(512, 256, kernel_size=(4, 4), stride=(2, 2), padding=(1, 1), bias=False)\n",
      "        (1): BatchNorm2d(256, eps=1e-05, momentum=0.1, affine=True, track_running_stats=True)\n",
      "        (2): ReLU(inplace)\n",
      "      )\n",
      "    )\n",
      "    (4): dcgan_upconv(\n",
      "      (main): Sequential(\n",
      "        (0): ConvTranspose2d(256, 128, kernel_size=(4, 4), stride=(2, 2), padding=(1, 1), bias=False)\n",
      "        (1): BatchNorm2d(128, eps=1e-05, momentum=0.1, affine=True, track_running_stats=True)\n",
      "        (2): ReLU(inplace)\n",
      "      )\n",
      "    )\n",
      "    (5): dcgan_upconv(\n",
      "      (main): Sequential(\n",
      "        (0): ConvTranspose2d(128, 64, kernel_size=(4, 4), stride=(2, 2), padding=(1, 1), bias=False)\n",
      "        (1): BatchNorm2d(64, eps=1e-05, momentum=0.1, affine=True, track_running_stats=True)\n",
      "        (2): ReLU(inplace)\n",
      "      )\n",
      "    )\n",
      "    (6): ConvTranspose2d(64, 3, kernel_size=(4, 4), stride=(2, 2), padding=(1, 1))\n",
      "    (7): Sigmoid()\n",
      "  )\n",
      ")\n",
      "Discriminator(\n",
      "  (main): Sequential(\n",
      "    (0): Conv2d(6, 64, kernel_size=(4, 4), stride=(2, 2), padding=(1, 1), bias=False)\n",
      "    (1): LeakyReLU(negative_slope=0.2, inplace)\n",
      "    (2): Conv2d(64, 128, kernel_size=(4, 4), stride=(2, 2), padding=(1, 1), bias=False)\n",
      "    (3): BatchNorm2d(128, eps=1e-05, momentum=0.1, affine=True, track_running_stats=True)\n",
      "    (4): LeakyReLU(negative_slope=0.2, inplace)\n",
      "    (5): Conv2d(128, 256, kernel_size=(4, 4), stride=(2, 2), padding=(1, 1), bias=False)\n",
      "    (6): BatchNorm2d(256, eps=1e-05, momentum=0.1, affine=True, track_running_stats=True)\n",
      "    (7): LeakyReLU(negative_slope=0.2, inplace)\n",
      "    (8): Conv2d(256, 512, kernel_size=(4, 4), stride=(2, 2), padding=(1, 1), bias=False)\n",
      "    (9): BatchNorm2d(512, eps=1e-05, momentum=0.1, affine=True, track_running_stats=True)\n",
      "    (10): LeakyReLU(negative_slope=0.2, inplace)\n",
      "    (11): Conv2d(512, 1, kernel_size=(4, 4), stride=(1, 1), bias=False)\n",
      "    (12): Sigmoid()\n",
      "  )\n",
      ")\n"
     ]
    }
   ],
   "source": [
    "# # netEC = dcgan_unet_models.content_encoder(content_dim, channels).to(device)\n",
    "# netEC = dcgan_models.content_encoder(content_dim, channels).to(device)\n",
    "# netEP = dcgan_models.pose_encoder(pose_dim, channels).to(device)\n",
    "# # netD = dcgan_unet_models.decoder(content_dim, pose_dim, channels).to(device)\n",
    "# netD = dcgan_models.decoder(content_dim, pose_dim, channels).to(device)\n",
    "# netC = classifiers.scene_discriminator(pose_dim, sd_nf).to(device)\n",
    "\n",
    "netEC = my_model.content_encoder(content_dim, channels).to(device)\n",
    "netEP = my_model.pose_encoder(pose_dim, channels, conditional=True).to(device)\n",
    "netD = my_model.decoder(content_dim, pose_dim, channels).to(device)\n",
    "# netC = my_model.scene_discriminator(pose_dim, sd_nf).to(device)\n",
    "netC = my_model.Discriminator(channels).to(device)\n",
    "\n",
    "netEC.apply(utils.weights_init)\n",
    "netEP.apply(utils.weights_init)\n",
    "netD.apply(utils.weights_init)\n",
    "netC.apply(utils.weights_init)\n",
    "\n",
    "print(netEC)\n",
    "print(netEP)\n",
    "print(netD)\n",
    "print(netC)"
   ]
  },
  {
   "cell_type": "code",
   "execution_count": 7,
   "metadata": {},
   "outputs": [],
   "source": [
    "optimizerEC = optim.Adam(netEC.parameters(), lr=lr, betas=(beta1, 0.999))\n",
    "optimizerEP = optim.Adam(netEP.parameters(), lr=lr, betas=(beta1, 0.999))\n",
    "optimizerD = optim.Adam(netD.parameters(), lr=lr, betas=(beta1, 0.999))\n",
    "optimizerC = optim.Adam(netC.parameters(), lr=lr, betas=(beta1, 0.999))"
   ]
  },
  {
   "cell_type": "markdown",
   "metadata": {},
   "source": [
    "Plot function"
   ]
  },
  {
   "cell_type": "code",
   "execution_count": 8,
   "metadata": {},
   "outputs": [],
   "source": [
    "# --------- plotting funtions ------------------------------------\n",
    "def plot_rec(x, epoch, dtype):\n",
    "    x_c = x[0]\n",
    "    x_p = x[np.random.randint(1, len(x))]\n",
    "\n",
    "    h_c = netEC(x_c)\n",
    "    h_p = netEP(x_p, h_c)\n",
    "    rec = netD([h_c, h_p])\n",
    "\n",
    "    x_c, x_p, rec = x_c.data, x_p.data, rec.data\n",
    "    fname = '{}-{}.png'.format(dtype, epoch)\n",
    "    fname = os.path.join(log_dir, 'rec', fname)\n",
    "    to_plot = []\n",
    "    row_sz = 5\n",
    "    nplot = 20\n",
    "    for i in range(0, nplot-row_sz, row_sz):\n",
    "        row = [[xc, xp, xr] for xc, xp, xr in zip(x_c[i:i+row_sz], x_p[i:i+row_sz], rec[i:i+row_sz])]\n",
    "        to_plot.append(list(itertools.chain(*row)))\n",
    "    utils.save_tensors_image(fname, to_plot)\n",
    "\n",
    "def plot_analogy(x, epoch, dtype):\n",
    "    x_c = x[0]\n",
    "    h_c = netEC(x_c)\n",
    "    \n",
    "    nrow = 10\n",
    "    row_sz = len(x)\n",
    "    to_plot = []\n",
    "    row = [xi[0].data for xi in x]\n",
    "    zeros = torch.zeros(channels, image_width, image_width)\n",
    "    to_plot.append([zeros] + row)\n",
    "    for i in range(nrow):\n",
    "        to_plot.append([x[0][i].data])\n",
    "\n",
    "    for j in range(0, row_sz):\n",
    "        # for each time step\n",
    "        h_p = netEP(x[j], h_c).data\n",
    "        # first 10 pose vector, equal to first pose vector\n",
    "        for i in range(nrow):\n",
    "            h_p[i] = h_p[0]\n",
    "        rec = netD([h_c, h_p])\n",
    "        for i in range(nrow):\n",
    "            to_plot[i+1].append(rec[i].data.clone())\n",
    "\n",
    "    fname = '{}-{}.png'.format(dtype, epoch)\n",
    "    fname = os.path.join(log_dir, 'analogy', fname)\n",
    "    utils.save_tensors_image(fname, to_plot)"
   ]
  },
  {
   "cell_type": "markdown",
   "metadata": {},
   "source": [
    "Training function"
   ]
  },
  {
   "cell_type": "code",
   "execution_count": 9,
   "metadata": {},
   "outputs": [],
   "source": [
    "def train(x):\n",
    "    optimizerEC.zero_grad()\n",
    "    optimizerEP.zero_grad()\n",
    "    optimizerD.zero_grad()\n",
    "\n",
    "#     x_c1 = x[0]\n",
    "#     x_c2 = x[1]\n",
    "#     x_p1 = x[2]\n",
    "#     x_p2 = x[3]\n",
    "    x_c1 = x[np.random.randint(len(x))]\n",
    "    x_c2 = x[np.random.randint(len(x))]\n",
    "    x_p1 = x[np.random.randint(len(x))]\n",
    "    x_p2 = x[np.random.randint(len(x))]\n",
    "\n",
    "    h_c1 = netEC(x_c1)\n",
    "#     h_c2 = netEC(x_c2)[0].detach()\n",
    "    h_c2 = netEC(x_c2).detach()\n",
    "    h_p1 = netEP(x_p1, h_c1.detach()) # used for scene discriminator\n",
    "    h_p2 = netEP(x_p2, h_c1.detach())\n",
    "\n",
    "\n",
    "    # similarity loss: ||h_c1 - h_c2||\n",
    "#     sim_loss = F.mse_loss(h_c1[0], h_c2)\n",
    "    sim_loss = F.mse_loss(h_c1, h_c2)\n",
    "\n",
    "\n",
    "    # reconstruction loss: ||D(h_c1, h_p1), x_p1|| \n",
    "    rec = netD([h_c1, h_p1])\n",
    "    rec_loss = F.mse_loss(rec, x_p1)\n",
    "\n",
    "    # scene discriminator loss: maximize entropy of output\n",
    "    # target = torch.FloatTensor(batch_size, 1).fill_(0.5).to(device)\n",
    "    # out = netC([h_p1, h_p2])\n",
    "    # sd_loss = F.binary_cross_entropy(out, target)\n",
    "    \n",
    "    # Swap pose vector to train the discriminator\n",
    "    target = torch.FloatTensor(batch_size, 1).fill_(1).to(device)\n",
    "    idx = torch.randperm(batch_size)\n",
    "    h_p2 = h_p2[idx]\n",
    "    rec_swap = netD([h_c1, h_p2])\n",
    "    out = netC([x_c1.detach(), rec_swap]).view(-1, 1)\n",
    "    D_G_fake = out.mean().item()\n",
    "    adv_loss = F.binary_cross_entropy(out, target)\n",
    "    \n",
    "    # full loss\n",
    "    loss = sim_loss + rec_loss + 0.1 * adv_loss\n",
    "    loss.backward()\n",
    "\n",
    "    optimizerEC.step()\n",
    "    optimizerEP.step()\n",
    "    optimizerD.step()\n",
    "\n",
    "    return sim_loss.item(), rec_loss.item(), adv_loss.item(), D_G_fake"
   ]
  },
  {
   "cell_type": "code",
   "execution_count": 10,
   "metadata": {},
   "outputs": [],
   "source": [
    "def train_scene_discriminator(x):\n",
    "    optimizerC.zero_grad()\n",
    "\n",
    "    target = torch.FloatTensor(batch_size, 1).to(device)\n",
    "    \n",
    "    # condition\n",
    "    h_c = netEC(x[np.random.randint(len(x))]).detach()\n",
    "    \n",
    "    x1 = x[0]\n",
    "    x2 = x[1]\n",
    "    h_p1 = netEP(x1, h_c).detach()\n",
    "    h_p2 = netEP(x2, h_c).detach()\n",
    "\n",
    "    half = batch_size // 2\n",
    "    rp = torch.randperm(half).cuda()\n",
    "    h_p2[:half] = h_p2[rp]\n",
    "    target[:half] = 0\n",
    "    target[half:] = 1\n",
    "\n",
    "    out = netC([h_p1, h_p2])\n",
    "    bce = F.binary_cross_entropy(out, target)\n",
    "\n",
    "    bce.backward()\n",
    "    optimizerC.step()\n",
    "\n",
    "    acc =out[:half].le(0.5).sum() + out[half:].gt(0.5).sum()\n",
    "    return bce.data.cpu().numpy(), acc.data.cpu().numpy() / batch_size"
   ]
  },
  {
   "cell_type": "code",
   "execution_count": 11,
   "metadata": {},
   "outputs": [],
   "source": [
    "def train_discriminator(x):\n",
    "    optimizerC.zero_grad()\n",
    "\n",
    "    real_lbl = torch.FloatTensor(batch_size, 1).fill_(1).to(device)\n",
    "    fake_lbl = torch.FloatTensor(batch_size, 1).fill_(0).to(device)\n",
    "    \n",
    "    x1 = x[np.random.randint(len(x))]\n",
    "    x2 = x[np.random.randint(len(x))]\n",
    "    x3 = x[np.random.randint(len(x))]\n",
    "\n",
    "    # real pair\n",
    "    # 1. x1\n",
    "    # 2. reconstructed frames by pose(x2) and content(x1)\n",
    "    h_c = netEC(x1).detach()\n",
    "    h_p = netEP(x3, h_c)\n",
    "    x_rec = netD([h_c, h_p]).detach()\n",
    "    out_real = netC([x1, x_rec]).view(-1, 1)\n",
    "    loss_real = F.binary_cross_entropy(out_real, real_lbl)\n",
    "    D_real = loss_real.mean().item()\n",
    "    \n",
    "    # fake pair\n",
    "    # 1. x1\n",
    "    # 2. swapped reconstructed frames\n",
    "    #    by swapped pose(x3) and content(x1)\n",
    "    idx = torch.randperm(batch_size)\n",
    "    h_p = netEP(x3, h_c)\n",
    "    h_p = h_p[idx]\n",
    "    x_swap = netD([h_c, h_p]).detach()\n",
    "    out_fake = netC([x1, x_swap]).view(-1, 1)\n",
    "    loss_fake = F.binary_cross_entropy(out_fake, fake_lbl)\n",
    "    D_fake = loss_fake.mean().item()\n",
    "    \n",
    "    \n",
    "    bce = 0.5*loss_real + 0.5*loss_fake\n",
    "    bce.backward()\n",
    "    optimizerC.step()\n",
    "\n",
    "    \n",
    "    return bce.item(), D_real, D_fake"
   ]
  },
  {
   "cell_type": "code",
   "execution_count": null,
   "metadata": {},
   "outputs": [
    {
     "data": {
      "application/vnd.jupyter.widget-view+json": {
       "model_id": "11d1c45c3ae54a12a819e966bb807486",
       "version_major": 2,
       "version_minor": 0
      },
      "text/plain": [
       "HBox(children=(IntProgress(value=0, description='EPOCH', max=200), HTML(value='')))"
      ]
     },
     "metadata": {},
     "output_type": "display_data"
    },
    {
     "data": {
      "application/vnd.jupyter.widget-view+json": {
       "model_id": "8b025040fd9b4174b7d0563013084238",
       "version_major": 2,
       "version_minor": 0
      },
      "text/plain": [
       "HBox(children=(IntProgress(value=0, description='BATCH', max=600), HTML(value='')))"
      ]
     },
     "metadata": {},
     "output_type": "display_data"
    },
    {
     "name": "stdout",
     "output_type": "stream",
     "text": [
      "[00]rec loss: 0.0172 |sim loss: 0.0325|adv loss: 0.7971 |sd loss: 0.8049     |D(real): 0.78 |D(fake): 0.83 |D(G(fake)): 0.50\n"
     ]
    },
    {
     "data": {
      "application/vnd.jupyter.widget-view+json": {
       "model_id": "952dd9fe98414cd99684965e1efff0e9",
       "version_major": 2,
       "version_minor": 0
      },
      "text/plain": [
       "HBox(children=(IntProgress(value=0, description='BATCH', max=600), HTML(value='')))"
      ]
     },
     "metadata": {},
     "output_type": "display_data"
    },
    {
     "name": "stdout",
     "output_type": "stream",
     "text": [
      "[01]rec loss: 0.0156 |sim loss: 0.0042|adv loss: 0.7159 |sd loss: 0.7048     |D(real): 0.70 |D(fake): 0.70 |D(G(fake)): 0.50\n"
     ]
    },
    {
     "data": {
      "application/vnd.jupyter.widget-view+json": {
       "model_id": "27aed2e1b6c2452d88a4437aa2533d2a",
       "version_major": 2,
       "version_minor": 0
      },
      "text/plain": [
       "HBox(children=(IntProgress(value=0, description='BATCH', max=600), HTML(value='')))"
      ]
     },
     "metadata": {},
     "output_type": "display_data"
    },
    {
     "name": "stdout",
     "output_type": "stream",
     "text": [
      "[02]rec loss: 0.0166 |sim loss: 0.0022|adv loss: 0.7083 |sd loss: 0.6993     |D(real): 0.70 |D(fake): 0.70 |D(G(fake)): 0.50\n"
     ]
    },
    {
     "data": {
      "application/vnd.jupyter.widget-view+json": {
       "model_id": "f7c7fd25a3e349caa7826fb19b1819e1",
       "version_major": 2,
       "version_minor": 0
      },
      "text/plain": [
       "HBox(children=(IntProgress(value=0, description='BATCH', max=600), HTML(value='')))"
      ]
     },
     "metadata": {},
     "output_type": "display_data"
    },
    {
     "name": "stdout",
     "output_type": "stream",
     "text": [
      "[03]rec loss: 0.0162 |sim loss: 0.0008|adv loss: 0.7488 |sd loss: 0.7212     |D(real): 0.72 |D(fake): 0.72 |D(G(fake)): 0.50\n"
     ]
    },
    {
     "data": {
      "application/vnd.jupyter.widget-view+json": {
       "model_id": "9f2909b9c9c54e059033d24ca505b42b",
       "version_major": 2,
       "version_minor": 0
      },
      "text/plain": [
       "HBox(children=(IntProgress(value=0, description='BATCH', max=600), HTML(value='')))"
      ]
     },
     "metadata": {},
     "output_type": "display_data"
    },
    {
     "name": "stdout",
     "output_type": "stream",
     "text": [
      "[04]rec loss: 0.0203 |sim loss: 0.0008|adv loss: 0.7076 |sd loss: 0.6990     |D(real): 0.70 |D(fake): 0.70 |D(G(fake)): 0.50\n"
     ]
    },
    {
     "data": {
      "application/vnd.jupyter.widget-view+json": {
       "model_id": "303a45f3f828435082ac329d144f30ea",
       "version_major": 2,
       "version_minor": 0
      },
      "text/plain": [
       "HBox(children=(IntProgress(value=0, description='BATCH', max=600), HTML(value='')))"
      ]
     },
     "metadata": {},
     "output_type": "display_data"
    },
    {
     "name": "stdout",
     "output_type": "stream",
     "text": [
      "[05]rec loss: 0.0157 |sim loss: 0.0011|adv loss: 0.6952 |sd loss: 0.6937     |D(real): 0.69 |D(fake): 0.69 |D(G(fake)): 0.50\n"
     ]
    },
    {
     "data": {
      "application/vnd.jupyter.widget-view+json": {
       "model_id": "195a44ef0301496c93c8cb2fd65f6609",
       "version_major": 2,
       "version_minor": 0
      },
      "text/plain": [
       "HBox(children=(IntProgress(value=0, description='BATCH', max=600), HTML(value='')))"
      ]
     },
     "metadata": {},
     "output_type": "display_data"
    },
    {
     "name": "stdout",
     "output_type": "stream",
     "text": [
      "[06]rec loss: 0.0135 |sim loss: 0.0005|adv loss: 0.6987 |sd loss: 0.6945     |D(real): 0.69 |D(fake): 0.69 |D(G(fake)): 0.50\n"
     ]
    },
    {
     "data": {
      "application/vnd.jupyter.widget-view+json": {
       "model_id": "a089e11c55a44086982184f0e057cabb",
       "version_major": 2,
       "version_minor": 0
      },
      "text/plain": [
       "HBox(children=(IntProgress(value=0, description='BATCH', max=600), HTML(value='')))"
      ]
     },
     "metadata": {},
     "output_type": "display_data"
    },
    {
     "name": "stdout",
     "output_type": "stream",
     "text": [
      "[07]rec loss: 0.0126 |sim loss: 0.0006|adv loss: 0.7058 |sd loss: 0.6960     |D(real): 0.70 |D(fake): 0.70 |D(G(fake)): 0.50\n"
     ]
    },
    {
     "data": {
      "application/vnd.jupyter.widget-view+json": {
       "model_id": "3de6d15b690e4042a1a4ec30b6dcd346",
       "version_major": 2,
       "version_minor": 0
      },
      "text/plain": [
       "HBox(children=(IntProgress(value=0, description='BATCH', max=600), HTML(value='')))"
      ]
     },
     "metadata": {},
     "output_type": "display_data"
    },
    {
     "name": "stdout",
     "output_type": "stream",
     "text": [
      "[08]rec loss: 0.0140 |sim loss: 0.0011|adv loss: 0.7060 |sd loss: 0.6952     |D(real): 0.70 |D(fake): 0.70 |D(G(fake)): 0.50\n"
     ]
    },
    {
     "data": {
      "application/vnd.jupyter.widget-view+json": {
       "model_id": "4dffbf965ddf43d9b7da564f5c968bf0",
       "version_major": 2,
       "version_minor": 0
      },
      "text/plain": [
       "HBox(children=(IntProgress(value=0, description='BATCH', max=600), HTML(value='')))"
      ]
     },
     "metadata": {},
     "output_type": "display_data"
    },
    {
     "name": "stdout",
     "output_type": "stream",
     "text": [
      "[09]rec loss: 0.0133 |sim loss: 0.0010|adv loss: 0.7034 |sd loss: 0.6950     |D(real): 0.69 |D(fake): 0.70 |D(G(fake)): 0.50\n"
     ]
    },
    {
     "data": {
      "application/vnd.jupyter.widget-view+json": {
       "model_id": "8e5886f786dd4cc8bc1634f9bd140e93",
       "version_major": 2,
       "version_minor": 0
      },
      "text/plain": [
       "HBox(children=(IntProgress(value=0, description='BATCH', max=600), HTML(value='')))"
      ]
     },
     "metadata": {},
     "output_type": "display_data"
    },
    {
     "name": "stdout",
     "output_type": "stream",
     "text": [
      "[10]rec loss: 0.0120 |sim loss: 0.0008|adv loss: 0.7064 |sd loss: 0.6956     |D(real): 0.70 |D(fake): 0.70 |D(G(fake)): 0.50\n"
     ]
    },
    {
     "data": {
      "application/vnd.jupyter.widget-view+json": {
       "model_id": "0ce5dfe3b9df4fed9b922c679b4c63e2",
       "version_major": 2,
       "version_minor": 0
      },
      "text/plain": [
       "HBox(children=(IntProgress(value=0, description='BATCH', max=600), HTML(value='')))"
      ]
     },
     "metadata": {},
     "output_type": "display_data"
    },
    {
     "name": "stdout",
     "output_type": "stream",
     "text": [
      "[11]rec loss: 0.0126 |sim loss: 0.0006|adv loss: 0.7079 |sd loss: 0.6951     |D(real): 0.70 |D(fake): 0.69 |D(G(fake)): 0.49\n"
     ]
    },
    {
     "data": {
      "application/vnd.jupyter.widget-view+json": {
       "model_id": "178f3098395a4bebb0c7f4826072a55a",
       "version_major": 2,
       "version_minor": 0
      },
      "text/plain": [
       "HBox(children=(IntProgress(value=0, description='BATCH', max=600), HTML(value='')))"
      ]
     },
     "metadata": {},
     "output_type": "display_data"
    },
    {
     "name": "stdout",
     "output_type": "stream",
     "text": [
      "[12]rec loss: 0.0117 |sim loss: 0.0008|adv loss: 0.7084 |sd loss: 0.6950     |D(real): 0.70 |D(fake): 0.69 |D(G(fake)): 0.49\n"
     ]
    },
    {
     "data": {
      "application/vnd.jupyter.widget-view+json": {
       "model_id": "33009bf3c2654562902a135bad083cfe",
       "version_major": 2,
       "version_minor": 0
      },
      "text/plain": [
       "HBox(children=(IntProgress(value=0, description='BATCH', max=600), HTML(value='')))"
      ]
     },
     "metadata": {},
     "output_type": "display_data"
    },
    {
     "name": "stdout",
     "output_type": "stream",
     "text": [
      "[13]rec loss: 0.0112 |sim loss: 0.0010|adv loss: 0.7099 |sd loss: 0.6941     |D(real): 0.69 |D(fake): 0.69 |D(G(fake)): 0.49\n"
     ]
    },
    {
     "data": {
      "application/vnd.jupyter.widget-view+json": {
       "model_id": "caf3f52117234313ae52790e7bfa2d8a",
       "version_major": 2,
       "version_minor": 0
      },
      "text/plain": [
       "HBox(children=(IntProgress(value=0, description='BATCH', max=600), HTML(value='')))"
      ]
     },
     "metadata": {},
     "output_type": "display_data"
    },
    {
     "name": "stdout",
     "output_type": "stream",
     "text": [
      "[14]rec loss: 0.0117 |sim loss: 0.0007|adv loss: 0.7095 |sd loss: 0.6937     |D(real): 0.69 |D(fake): 0.69 |D(G(fake)): 0.49\n"
     ]
    },
    {
     "data": {
      "application/vnd.jupyter.widget-view+json": {
       "model_id": "1736743df1a04e48b23943a832c931ec",
       "version_major": 2,
       "version_minor": 0
      },
      "text/plain": [
       "HBox(children=(IntProgress(value=0, description='BATCH', max=600), HTML(value='')))"
      ]
     },
     "metadata": {},
     "output_type": "display_data"
    },
    {
     "name": "stdout",
     "output_type": "stream",
     "text": [
      "[15]rec loss: 0.0114 |sim loss: 0.0010|adv loss: 0.7152 |sd loss: 0.6933     |D(real): 0.69 |D(fake): 0.69 |D(G(fake)): 0.49\n"
     ]
    },
    {
     "data": {
      "application/vnd.jupyter.widget-view+json": {
       "model_id": "4046180f557d4d939db101f40558708c",
       "version_major": 2,
       "version_minor": 0
      },
      "text/plain": [
       "HBox(children=(IntProgress(value=0, description='BATCH', max=600), HTML(value='')))"
      ]
     },
     "metadata": {},
     "output_type": "display_data"
    },
    {
     "name": "stdout",
     "output_type": "stream",
     "text": [
      "[16]rec loss: 0.0117 |sim loss: 0.0011|adv loss: 0.7180 |sd loss: 0.6926     |D(real): 0.69 |D(fake): 0.69 |D(G(fake)): 0.49\n"
     ]
    },
    {
     "data": {
      "application/vnd.jupyter.widget-view+json": {
       "model_id": "923d3b63addf4acc857f77b720274e5a",
       "version_major": 2,
       "version_minor": 0
      },
      "text/plain": [
       "HBox(children=(IntProgress(value=0, description='BATCH', max=600), HTML(value='')))"
      ]
     },
     "metadata": {},
     "output_type": "display_data"
    },
    {
     "name": "stdout",
     "output_type": "stream",
     "text": [
      "[17]rec loss: 0.0114 |sim loss: 0.0011|adv loss: 0.7257 |sd loss: 0.6917     |D(real): 0.69 |D(fake): 0.69 |D(G(fake)): 0.49\n"
     ]
    },
    {
     "data": {
      "application/vnd.jupyter.widget-view+json": {
       "model_id": "a7982245fc5f4160a1d43fa674e47b2b",
       "version_major": 2,
       "version_minor": 0
      },
      "text/plain": [
       "HBox(children=(IntProgress(value=0, description='BATCH', max=600), HTML(value='')))"
      ]
     },
     "metadata": {},
     "output_type": "display_data"
    },
    {
     "name": "stdout",
     "output_type": "stream",
     "text": [
      "[18]rec loss: 0.0119 |sim loss: 0.0011|adv loss: 0.7275 |sd loss: 0.6910     |D(real): 0.69 |D(fake): 0.69 |D(G(fake)): 0.49\n"
     ]
    },
    {
     "data": {
      "application/vnd.jupyter.widget-view+json": {
       "model_id": "b7d2aaead71e4046adf7f241208c925a",
       "version_major": 2,
       "version_minor": 0
      },
      "text/plain": [
       "HBox(children=(IntProgress(value=0, description='BATCH', max=600), HTML(value='')))"
      ]
     },
     "metadata": {},
     "output_type": "display_data"
    },
    {
     "name": "stdout",
     "output_type": "stream",
     "text": [
      "[19]rec loss: 0.0138 |sim loss: 0.0010|adv loss: 0.7094 |sd loss: 0.6924     |D(real): 0.69 |D(fake): 0.69 |D(G(fake)): 0.49\n"
     ]
    },
    {
     "data": {
      "application/vnd.jupyter.widget-view+json": {
       "model_id": "9a3ce56eac5b48d2ba9e7f2473a49669",
       "version_major": 2,
       "version_minor": 0
      },
      "text/plain": [
       "HBox(children=(IntProgress(value=0, description='BATCH', max=600), HTML(value='')))"
      ]
     },
     "metadata": {},
     "output_type": "display_data"
    },
    {
     "name": "stdout",
     "output_type": "stream",
     "text": [
      "[20]rec loss: 0.0119 |sim loss: 0.0011|adv loss: 0.7299 |sd loss: 0.6914     |D(real): 0.69 |D(fake): 0.69 |D(G(fake)): 0.48\n"
     ]
    },
    {
     "data": {
      "application/vnd.jupyter.widget-view+json": {
       "model_id": "27f64bea03d84c0a9d1264ea1257099d",
       "version_major": 2,
       "version_minor": 0
      },
      "text/plain": [
       "HBox(children=(IntProgress(value=0, description='BATCH', max=600), HTML(value='')))"
      ]
     },
     "metadata": {},
     "output_type": "display_data"
    },
    {
     "name": "stdout",
     "output_type": "stream",
     "text": [
      "[21]rec loss: 0.0118 |sim loss: 0.0010|adv loss: 0.7249 |sd loss: 0.6909     |D(real): 0.69 |D(fake): 0.69 |D(G(fake)): 0.49\n"
     ]
    },
    {
     "data": {
      "application/vnd.jupyter.widget-view+json": {
       "model_id": "1ce3484dd2454de9b2c4ee1b8d4ba070",
       "version_major": 2,
       "version_minor": 0
      },
      "text/plain": [
       "HBox(children=(IntProgress(value=0, description='BATCH', max=600), HTML(value='')))"
      ]
     },
     "metadata": {},
     "output_type": "display_data"
    },
    {
     "name": "stdout",
     "output_type": "stream",
     "text": [
      "[22]rec loss: 0.0119 |sim loss: 0.0012|adv loss: 0.7284 |sd loss: 0.6916     |D(real): 0.69 |D(fake): 0.69 |D(G(fake)): 0.49\n"
     ]
    },
    {
     "data": {
      "application/vnd.jupyter.widget-view+json": {
       "model_id": "e8a9611012c84f57bd59f3d8d042648b",
       "version_major": 2,
       "version_minor": 0
      },
      "text/plain": [
       "HBox(children=(IntProgress(value=0, description='BATCH', max=600), HTML(value='')))"
      ]
     },
     "metadata": {},
     "output_type": "display_data"
    },
    {
     "name": "stdout",
     "output_type": "stream",
     "text": [
      "[23]rec loss: 0.0119 |sim loss: 0.0010|adv loss: 0.7249 |sd loss: 0.6913     |D(real): 0.69 |D(fake): 0.69 |D(G(fake)): 0.49\n"
     ]
    },
    {
     "data": {
      "application/vnd.jupyter.widget-view+json": {
       "model_id": "e4f47f7c597c462ca702267254aa7a15",
       "version_major": 2,
       "version_minor": 0
      },
      "text/plain": [
       "HBox(children=(IntProgress(value=0, description='BATCH', max=600), HTML(value='')))"
      ]
     },
     "metadata": {},
     "output_type": "display_data"
    },
    {
     "name": "stdout",
     "output_type": "stream",
     "text": [
      "[24]rec loss: 0.0131 |sim loss: 0.0012|adv loss: 0.7219 |sd loss: 0.6915     |D(real): 0.69 |D(fake): 0.69 |D(G(fake)): 0.49\n"
     ]
    },
    {
     "data": {
      "application/vnd.jupyter.widget-view+json": {
       "model_id": "a04460b518b345b2badf5d26ceb349ce",
       "version_major": 2,
       "version_minor": 0
      },
      "text/plain": [
       "HBox(children=(IntProgress(value=0, description='BATCH', max=600), HTML(value='')))"
      ]
     },
     "metadata": {},
     "output_type": "display_data"
    },
    {
     "name": "stdout",
     "output_type": "stream",
     "text": [
      "[25]rec loss: 0.0130 |sim loss: 0.0006|adv loss: 0.7058 |sd loss: 0.6936     |D(real): 0.69 |D(fake): 0.69 |D(G(fake)): 0.49\n"
     ]
    },
    {
     "data": {
      "application/vnd.jupyter.widget-view+json": {
       "model_id": "d66e135730d64642a8cc1f61f4f6fc98",
       "version_major": 2,
       "version_minor": 0
      },
      "text/plain": [
       "HBox(children=(IntProgress(value=0, description='BATCH', max=600), HTML(value='')))"
      ]
     },
     "metadata": {},
     "output_type": "display_data"
    },
    {
     "name": "stdout",
     "output_type": "stream",
     "text": [
      "[26]rec loss: 0.0116 |sim loss: 0.0009|adv loss: 0.7254 |sd loss: 0.6910     |D(real): 0.69 |D(fake): 0.69 |D(G(fake)): 0.49\n"
     ]
    },
    {
     "data": {
      "application/vnd.jupyter.widget-view+json": {
       "model_id": "9f65e94ccd724a99b959b43279c1152e",
       "version_major": 2,
       "version_minor": 0
      },
      "text/plain": [
       "HBox(children=(IntProgress(value=0, description='BATCH', max=600), HTML(value='')))"
      ]
     },
     "metadata": {},
     "output_type": "display_data"
    },
    {
     "name": "stdout",
     "output_type": "stream",
     "text": [
      "[27]rec loss: 0.0115 |sim loss: 0.0009|adv loss: 0.7216 |sd loss: 0.6928     |D(real): 0.69 |D(fake): 0.69 |D(G(fake)): 0.49\n"
     ]
    },
    {
     "data": {
      "application/vnd.jupyter.widget-view+json": {
       "model_id": "7478679348ec410889531a19da9b60e0",
       "version_major": 2,
       "version_minor": 0
      },
      "text/plain": [
       "HBox(children=(IntProgress(value=0, description='BATCH', max=600), HTML(value='')))"
      ]
     },
     "metadata": {},
     "output_type": "display_data"
    },
    {
     "name": "stdout",
     "output_type": "stream",
     "text": [
      "[28]rec loss: 0.0114 |sim loss: 0.0011|adv loss: 0.7347 |sd loss: 0.6899     |D(real): 0.69 |D(fake): 0.69 |D(G(fake)): 0.48\n"
     ]
    },
    {
     "data": {
      "application/vnd.jupyter.widget-view+json": {
       "model_id": "4876f7090742459c9596ffe689275215",
       "version_major": 2,
       "version_minor": 0
      },
      "text/plain": [
       "HBox(children=(IntProgress(value=0, description='BATCH', max=600), HTML(value='')))"
      ]
     },
     "metadata": {},
     "output_type": "display_data"
    },
    {
     "name": "stdout",
     "output_type": "stream",
     "text": [
      "[29]rec loss: 0.0111 |sim loss: 0.0010|adv loss: 0.7287 |sd loss: 0.6909     |D(real): 0.69 |D(fake): 0.69 |D(G(fake)): 0.49\n"
     ]
    },
    {
     "data": {
      "application/vnd.jupyter.widget-view+json": {
       "model_id": "f3cfb1dbe6cf4c4eb10cbaafbee56ce1",
       "version_major": 2,
       "version_minor": 0
      },
      "text/plain": [
       "HBox(children=(IntProgress(value=0, description='BATCH', max=600), HTML(value='')))"
      ]
     },
     "metadata": {},
     "output_type": "display_data"
    },
    {
     "name": "stdout",
     "output_type": "stream",
     "text": [
      "[30]rec loss: 0.0112 |sim loss: 0.0011|adv loss: 0.7346 |sd loss: 0.6899     |D(real): 0.69 |D(fake): 0.69 |D(G(fake)): 0.48\n"
     ]
    },
    {
     "data": {
      "application/vnd.jupyter.widget-view+json": {
       "model_id": "42d10807b3d34d008ab067c7b9faf560",
       "version_major": 2,
       "version_minor": 0
      },
      "text/plain": [
       "HBox(children=(IntProgress(value=0, description='BATCH', max=600), HTML(value='')))"
      ]
     },
     "metadata": {},
     "output_type": "display_data"
    },
    {
     "name": "stdout",
     "output_type": "stream",
     "text": [
      "[31]rec loss: 0.0114 |sim loss: 0.0011|adv loss: 0.7371 |sd loss: 0.6891     |D(real): 0.69 |D(fake): 0.69 |D(G(fake)): 0.48\n"
     ]
    },
    {
     "data": {
      "application/vnd.jupyter.widget-view+json": {
       "model_id": "2cafb9ea5e074cef97ce7d206f367929",
       "version_major": 2,
       "version_minor": 0
      },
      "text/plain": [
       "HBox(children=(IntProgress(value=0, description='BATCH', max=600), HTML(value='')))"
      ]
     },
     "metadata": {},
     "output_type": "display_data"
    },
    {
     "name": "stdout",
     "output_type": "stream",
     "text": [
      "[32]rec loss: 0.0114 |sim loss: 0.0012|adv loss: 0.7402 |sd loss: 0.6872     |D(real): 0.69 |D(fake): 0.69 |D(G(fake)): 0.48\n"
     ]
    },
    {
     "data": {
      "application/vnd.jupyter.widget-view+json": {
       "model_id": "75fa02a838224e0086ca8edd66aa29d3",
       "version_major": 2,
       "version_minor": 0
      },
      "text/plain": [
       "HBox(children=(IntProgress(value=0, description='BATCH', max=600), HTML(value='')))"
      ]
     },
     "metadata": {},
     "output_type": "display_data"
    },
    {
     "name": "stdout",
     "output_type": "stream",
     "text": [
      "[33]rec loss: 0.0119 |sim loss: 0.0013|adv loss: 0.7436 |sd loss: 0.6889     |D(real): 0.69 |D(fake): 0.69 |D(G(fake)): 0.48\n"
     ]
    },
    {
     "data": {
      "application/vnd.jupyter.widget-view+json": {
       "model_id": "15a2ace4aa2c43aab8702595ed93bc79",
       "version_major": 2,
       "version_minor": 0
      },
      "text/plain": [
       "HBox(children=(IntProgress(value=0, description='BATCH', max=600), HTML(value='')))"
      ]
     },
     "metadata": {},
     "output_type": "display_data"
    },
    {
     "name": "stdout",
     "output_type": "stream",
     "text": [
      "[34]rec loss: 0.0117 |sim loss: 0.0013|adv loss: 0.7426 |sd loss: 0.6881     |D(real): 0.69 |D(fake): 0.69 |D(G(fake)): 0.48\n"
     ]
    },
    {
     "data": {
      "application/vnd.jupyter.widget-view+json": {
       "model_id": "94fb5978aeff4c5e81f56e3482b3a91a",
       "version_major": 2,
       "version_minor": 0
      },
      "text/plain": [
       "HBox(children=(IntProgress(value=0, description='BATCH', max=600), HTML(value='')))"
      ]
     },
     "metadata": {},
     "output_type": "display_data"
    },
    {
     "name": "stdout",
     "output_type": "stream",
     "text": [
      "[35]rec loss: 0.0116 |sim loss: 0.0013|adv loss: 0.7548 |sd loss: 0.6857     |D(real): 0.69 |D(fake): 0.68 |D(G(fake)): 0.48\n"
     ]
    },
    {
     "data": {
      "application/vnd.jupyter.widget-view+json": {
       "model_id": "2bc14b23280848019f2e27f5ce779c0c",
       "version_major": 2,
       "version_minor": 0
      },
      "text/plain": [
       "HBox(children=(IntProgress(value=0, description='BATCH', max=600), HTML(value='')))"
      ]
     },
     "metadata": {},
     "output_type": "display_data"
    },
    {
     "name": "stdout",
     "output_type": "stream",
     "text": [
      "[36]rec loss: 0.0117 |sim loss: 0.0014|adv loss: 0.7382 |sd loss: 0.6887     |D(real): 0.69 |D(fake): 0.68 |D(G(fake)): 0.48\n"
     ]
    },
    {
     "data": {
      "application/vnd.jupyter.widget-view+json": {
       "model_id": "20386aeabc9f43c7a178ff88e51e11ca",
       "version_major": 2,
       "version_minor": 0
      },
      "text/plain": [
       "HBox(children=(IntProgress(value=0, description='BATCH', max=600), HTML(value='')))"
      ]
     },
     "metadata": {},
     "output_type": "display_data"
    },
    {
     "name": "stdout",
     "output_type": "stream",
     "text": [
      "[37]rec loss: 0.0114 |sim loss: 0.0012|adv loss: 0.7500 |sd loss: 0.6851     |D(real): 0.69 |D(fake): 0.68 |D(G(fake)): 0.48\n"
     ]
    },
    {
     "data": {
      "application/vnd.jupyter.widget-view+json": {
       "model_id": "41defed5dd0e473ab9708906f04701d7",
       "version_major": 2,
       "version_minor": 0
      },
      "text/plain": [
       "HBox(children=(IntProgress(value=0, description='BATCH', max=600), HTML(value='')))"
      ]
     },
     "metadata": {},
     "output_type": "display_data"
    },
    {
     "name": "stdout",
     "output_type": "stream",
     "text": [
      "[38]rec loss: 0.0121 |sim loss: 0.0014|adv loss: 0.7422 |sd loss: 0.6883     |D(real): 0.69 |D(fake): 0.69 |D(G(fake)): 0.48\n"
     ]
    },
    {
     "data": {
      "application/vnd.jupyter.widget-view+json": {
       "model_id": "b55cfd81193b46e2b75bdacb523d84df",
       "version_major": 2,
       "version_minor": 0
      },
      "text/plain": [
       "HBox(children=(IntProgress(value=0, description='BATCH', max=600), HTML(value='')))"
      ]
     },
     "metadata": {},
     "output_type": "display_data"
    },
    {
     "name": "stdout",
     "output_type": "stream",
     "text": [
      "[39]rec loss: 0.0114 |sim loss: 0.0012|adv loss: 0.7321 |sd loss: 0.6910     |D(real): 0.69 |D(fake): 0.69 |D(G(fake)): 0.48\n"
     ]
    },
    {
     "data": {
      "application/vnd.jupyter.widget-view+json": {
       "model_id": "f6b87c41f1f043fc8838cb645e68f68b",
       "version_major": 2,
       "version_minor": 0
      },
      "text/plain": [
       "HBox(children=(IntProgress(value=0, description='BATCH', max=600), HTML(value='')))"
      ]
     },
     "metadata": {},
     "output_type": "display_data"
    },
    {
     "name": "stdout",
     "output_type": "stream",
     "text": [
      "[40]rec loss: 0.0119 |sim loss: 0.0013|adv loss: 0.7437 |sd loss: 0.6890     |D(real): 0.69 |D(fake): 0.69 |D(G(fake)): 0.48\n"
     ]
    },
    {
     "data": {
      "application/vnd.jupyter.widget-view+json": {
       "model_id": "c803ddf8f30a4fd689ad8ce67c0fe0f6",
       "version_major": 2,
       "version_minor": 0
      },
      "text/plain": [
       "HBox(children=(IntProgress(value=0, description='BATCH', max=600), HTML(value='')))"
      ]
     },
     "metadata": {},
     "output_type": "display_data"
    },
    {
     "name": "stdout",
     "output_type": "stream",
     "text": [
      "[41]rec loss: 0.0117 |sim loss: 0.0012|adv loss: 0.7482 |sd loss: 0.6873     |D(real): 0.69 |D(fake): 0.68 |D(G(fake)): 0.48\n"
     ]
    },
    {
     "data": {
      "application/vnd.jupyter.widget-view+json": {
       "model_id": "a56caf5eb47d4abeafc82f03b888fb4c",
       "version_major": 2,
       "version_minor": 0
      },
      "text/plain": [
       "HBox(children=(IntProgress(value=0, description='BATCH', max=600), HTML(value='')))"
      ]
     },
     "metadata": {},
     "output_type": "display_data"
    },
    {
     "name": "stdout",
     "output_type": "stream",
     "text": [
      "[42]rec loss: 0.0116 |sim loss: 0.0013|adv loss: 0.7470 |sd loss: 0.6896     |D(real): 0.69 |D(fake): 0.69 |D(G(fake)): 0.48\n"
     ]
    },
    {
     "data": {
      "application/vnd.jupyter.widget-view+json": {
       "model_id": "cc3080a22f974053bb4cb2ab0c9e0e9f",
       "version_major": 2,
       "version_minor": 0
      },
      "text/plain": [
       "HBox(children=(IntProgress(value=0, description='BATCH', max=600), HTML(value='')))"
      ]
     },
     "metadata": {},
     "output_type": "display_data"
    },
    {
     "name": "stdout",
     "output_type": "stream",
     "text": [
      "[43]rec loss: 0.0117 |sim loss: 0.0013|adv loss: 0.7535 |sd loss: 0.6846     |D(real): 0.69 |D(fake): 0.68 |D(G(fake)): 0.48\n"
     ]
    },
    {
     "data": {
      "application/vnd.jupyter.widget-view+json": {
       "model_id": "d7fb7337c71d4674aaf2cfdcd67f79ea",
       "version_major": 2,
       "version_minor": 0
      },
      "text/plain": [
       "HBox(children=(IntProgress(value=0, description='BATCH', max=600), HTML(value='')))"
      ]
     },
     "metadata": {},
     "output_type": "display_data"
    },
    {
     "name": "stdout",
     "output_type": "stream",
     "text": [
      "[44]rec loss: 0.0117 |sim loss: 0.0015|adv loss: 0.7586 |sd loss: 0.6838     |D(real): 0.69 |D(fake): 0.68 |D(G(fake)): 0.47\n"
     ]
    },
    {
     "data": {
      "application/vnd.jupyter.widget-view+json": {
       "model_id": "2a0360d86af04e158fcef7f3802b1f52",
       "version_major": 2,
       "version_minor": 0
      },
      "text/plain": [
       "HBox(children=(IntProgress(value=0, description='BATCH', max=600), HTML(value='')))"
      ]
     },
     "metadata": {},
     "output_type": "display_data"
    },
    {
     "name": "stdout",
     "output_type": "stream",
     "text": [
      "[45]rec loss: 0.0116 |sim loss: 0.0012|adv loss: 0.7484 |sd loss: 0.6876     |D(real): 0.69 |D(fake): 0.68 |D(G(fake)): 0.48\n"
     ]
    },
    {
     "data": {
      "application/vnd.jupyter.widget-view+json": {
       "model_id": "5076ac2057304fc2a068a9046e9fb9ed",
       "version_major": 2,
       "version_minor": 0
      },
      "text/plain": [
       "HBox(children=(IntProgress(value=0, description='BATCH', max=600), HTML(value='')))"
      ]
     },
     "metadata": {},
     "output_type": "display_data"
    },
    {
     "name": "stdout",
     "output_type": "stream",
     "text": [
      "[46]rec loss: 0.0113 |sim loss: 0.0013|adv loss: 0.7497 |sd loss: 0.6865     |D(real): 0.69 |D(fake): 0.68 |D(G(fake)): 0.48\n"
     ]
    },
    {
     "data": {
      "application/vnd.jupyter.widget-view+json": {
       "model_id": "592d03364143457bbca93816c24375c0",
       "version_major": 2,
       "version_minor": 0
      },
      "text/plain": [
       "HBox(children=(IntProgress(value=0, description='BATCH', max=600), HTML(value='')))"
      ]
     },
     "metadata": {},
     "output_type": "display_data"
    },
    {
     "name": "stdout",
     "output_type": "stream",
     "text": [
      "[47]rec loss: 0.0114 |sim loss: 0.0013|adv loss: 0.7531 |sd loss: 0.6855     |D(real): 0.69 |D(fake): 0.68 |D(G(fake)): 0.48\n"
     ]
    },
    {
     "data": {
      "application/vnd.jupyter.widget-view+json": {
       "model_id": "66043b54a0784fe59be7da339a826d90",
       "version_major": 2,
       "version_minor": 0
      },
      "text/plain": [
       "HBox(children=(IntProgress(value=0, description='BATCH', max=600), HTML(value='')))"
      ]
     },
     "metadata": {},
     "output_type": "display_data"
    },
    {
     "name": "stdout",
     "output_type": "stream",
     "text": [
      "[48]rec loss: 0.0113 |sim loss: 0.0013|adv loss: 0.7538 |sd loss: 0.6844     |D(real): 0.69 |D(fake): 0.68 |D(G(fake)): 0.48\n"
     ]
    },
    {
     "data": {
      "application/vnd.jupyter.widget-view+json": {
       "model_id": "2ddda115dd1641a18fe39ba4cd22e676",
       "version_major": 2,
       "version_minor": 0
      },
      "text/plain": [
       "HBox(children=(IntProgress(value=0, description='BATCH', max=600), HTML(value='')))"
      ]
     },
     "metadata": {},
     "output_type": "display_data"
    },
    {
     "name": "stdout",
     "output_type": "stream",
     "text": [
      "[49]rec loss: 0.0115 |sim loss: 0.0015|adv loss: 0.7592 |sd loss: 0.6861     |D(real): 0.69 |D(fake): 0.68 |D(G(fake)): 0.47\n"
     ]
    },
    {
     "data": {
      "application/vnd.jupyter.widget-view+json": {
       "model_id": "c211e6f44ec047c4ae86f35d2ca6134c",
       "version_major": 2,
       "version_minor": 0
      },
      "text/plain": [
       "HBox(children=(IntProgress(value=0, description='BATCH', max=600), HTML(value='')))"
      ]
     },
     "metadata": {},
     "output_type": "display_data"
    },
    {
     "name": "stdout",
     "output_type": "stream",
     "text": [
      "[50]rec loss: 0.0116 |sim loss: 0.0014|adv loss: 0.7818 |sd loss: 0.6761     |D(real): 0.68 |D(fake): 0.67 |D(G(fake)): 0.47\n"
     ]
    },
    {
     "data": {
      "application/vnd.jupyter.widget-view+json": {
       "model_id": "1a86976c65724cedabaf0a3ec08d648d",
       "version_major": 2,
       "version_minor": 0
      },
      "text/plain": [
       "HBox(children=(IntProgress(value=0, description='BATCH', max=600), HTML(value='')))"
      ]
     },
     "metadata": {},
     "output_type": "display_data"
    },
    {
     "name": "stdout",
     "output_type": "stream",
     "text": [
      "[51]rec loss: 0.0119 |sim loss: 0.0015|adv loss: 0.7665 |sd loss: 0.6850     |D(real): 0.69 |D(fake): 0.68 |D(G(fake)): 0.47\n"
     ]
    },
    {
     "data": {
      "application/vnd.jupyter.widget-view+json": {
       "model_id": "67ffa0cd9cb04cc2a02546e17e52c106",
       "version_major": 2,
       "version_minor": 0
      },
      "text/plain": [
       "HBox(children=(IntProgress(value=0, description='BATCH', max=600), HTML(value='')))"
      ]
     },
     "metadata": {},
     "output_type": "display_data"
    },
    {
     "name": "stdout",
     "output_type": "stream",
     "text": [
      "[52]rec loss: 0.0120 |sim loss: 0.0013|adv loss: 0.7544 |sd loss: 0.6823     |D(real): 0.69 |D(fake): 0.68 |D(G(fake)): 0.48\n"
     ]
    },
    {
     "data": {
      "application/vnd.jupyter.widget-view+json": {
       "model_id": "2a9cb7ef646345b58cd5625716735ada",
       "version_major": 2,
       "version_minor": 0
      },
      "text/plain": [
       "HBox(children=(IntProgress(value=0, description='BATCH', max=600), HTML(value='')))"
      ]
     },
     "metadata": {},
     "output_type": "display_data"
    },
    {
     "name": "stdout",
     "output_type": "stream",
     "text": [
      "[53]rec loss: 0.0116 |sim loss: 0.0013|adv loss: 0.7576 |sd loss: 0.6869     |D(real): 0.69 |D(fake): 0.68 |D(G(fake)): 0.48\n"
     ]
    },
    {
     "data": {
      "application/vnd.jupyter.widget-view+json": {
       "model_id": "75c8b17707a64c2caf632e50bd43c80a",
       "version_major": 2,
       "version_minor": 0
      },
      "text/plain": [
       "HBox(children=(IntProgress(value=0, description='BATCH', max=600), HTML(value='')))"
      ]
     },
     "metadata": {},
     "output_type": "display_data"
    },
    {
     "name": "stdout",
     "output_type": "stream",
     "text": [
      "[54]rec loss: 0.0114 |sim loss: 0.0013|adv loss: 0.7566 |sd loss: 0.6829     |D(real): 0.69 |D(fake): 0.68 |D(G(fake)): 0.48\n"
     ]
    },
    {
     "data": {
      "application/vnd.jupyter.widget-view+json": {
       "model_id": "2a692c80c67443278dea266dc976278e",
       "version_major": 2,
       "version_minor": 0
      },
      "text/plain": [
       "HBox(children=(IntProgress(value=0, description='BATCH', max=600), HTML(value='')))"
      ]
     },
     "metadata": {},
     "output_type": "display_data"
    },
    {
     "name": "stdout",
     "output_type": "stream",
     "text": [
      "[55]rec loss: 0.0117 |sim loss: 0.0015|adv loss: 0.7431 |sd loss: 0.6867     |D(real): 0.69 |D(fake): 0.68 |D(G(fake)): 0.48\n"
     ]
    },
    {
     "data": {
      "application/vnd.jupyter.widget-view+json": {
       "model_id": "0d2d2d8ef5f94f22b086a7905e6c8531",
       "version_major": 2,
       "version_minor": 0
      },
      "text/plain": [
       "HBox(children=(IntProgress(value=0, description='BATCH', max=600), HTML(value='')))"
      ]
     },
     "metadata": {},
     "output_type": "display_data"
    },
    {
     "name": "stdout",
     "output_type": "stream",
     "text": [
      "[56]rec loss: 0.0113 |sim loss: 0.0010|adv loss: 0.7482 |sd loss: 0.6852     |D(real): 0.69 |D(fake): 0.68 |D(G(fake)): 0.48\n"
     ]
    },
    {
     "data": {
      "application/vnd.jupyter.widget-view+json": {
       "model_id": "a54bdce2651741179b792ac213dd60e3",
       "version_major": 2,
       "version_minor": 0
      },
      "text/plain": [
       "HBox(children=(IntProgress(value=0, description='BATCH', max=600), HTML(value='')))"
      ]
     },
     "metadata": {},
     "output_type": "display_data"
    },
    {
     "name": "stdout",
     "output_type": "stream",
     "text": [
      "[57]rec loss: 0.0110 |sim loss: 0.0008|adv loss: 0.7085 |sd loss: 0.6907     |D(real): 0.69 |D(fake): 0.69 |D(G(fake)): 0.50\n"
     ]
    },
    {
     "data": {
      "application/vnd.jupyter.widget-view+json": {
       "model_id": "4dd4297a9172472ba6eb43dd92a31816",
       "version_major": 2,
       "version_minor": 0
      },
      "text/plain": [
       "HBox(children=(IntProgress(value=0, description='BATCH', max=600), HTML(value='')))"
      ]
     },
     "metadata": {},
     "output_type": "display_data"
    },
    {
     "name": "stdout",
     "output_type": "stream",
     "text": [
      "[58]rec loss: 0.0106 |sim loss: 0.0007|adv loss: 0.7124 |sd loss: 0.6901     |D(real): 0.69 |D(fake): 0.69 |D(G(fake)): 0.49\n"
     ]
    },
    {
     "data": {
      "application/vnd.jupyter.widget-view+json": {
       "model_id": "f087c0b936894eb8ae956464510f7811",
       "version_major": 2,
       "version_minor": 0
      },
      "text/plain": [
       "HBox(children=(IntProgress(value=0, description='BATCH', max=600), HTML(value='')))"
      ]
     },
     "metadata": {},
     "output_type": "display_data"
    },
    {
     "name": "stdout",
     "output_type": "stream",
     "text": [
      "[59]rec loss: 0.0103 |sim loss: 0.0007|adv loss: 0.7129 |sd loss: 0.6918     |D(real): 0.69 |D(fake): 0.69 |D(G(fake)): 0.49\n"
     ]
    },
    {
     "data": {
      "application/vnd.jupyter.widget-view+json": {
       "model_id": "c41f4af4630f485ba1277ae390d8f34a",
       "version_major": 2,
       "version_minor": 0
      },
      "text/plain": [
       "HBox(children=(IntProgress(value=0, description='BATCH', max=600), HTML(value='')))"
      ]
     },
     "metadata": {},
     "output_type": "display_data"
    },
    {
     "name": "stdout",
     "output_type": "stream",
     "text": [
      "[60]rec loss: 0.0103 |sim loss: 0.0007|adv loss: 0.7131 |sd loss: 0.6921     |D(real): 0.69 |D(fake): 0.69 |D(G(fake)): 0.49\n"
     ]
    },
    {
     "data": {
      "application/vnd.jupyter.widget-view+json": {
       "model_id": "283f7d5435ca4fa3b3c6e8d9e699b7b4",
       "version_major": 2,
       "version_minor": 0
      },
      "text/plain": [
       "HBox(children=(IntProgress(value=0, description='BATCH', max=600), HTML(value='')))"
      ]
     },
     "metadata": {},
     "output_type": "display_data"
    },
    {
     "name": "stdout",
     "output_type": "stream",
     "text": [
      "[61]rec loss: 0.0099 |sim loss: 0.0006|adv loss: 0.7084 |sd loss: 0.6928     |D(real): 0.69 |D(fake): 0.69 |D(G(fake)): 0.49\n"
     ]
    },
    {
     "data": {
      "application/vnd.jupyter.widget-view+json": {
       "model_id": "0ca8626ef50e4b7f80ad51df984eb18d",
       "version_major": 2,
       "version_minor": 0
      },
      "text/plain": [
       "HBox(children=(IntProgress(value=0, description='BATCH', max=600), HTML(value='')))"
      ]
     },
     "metadata": {},
     "output_type": "display_data"
    },
    {
     "name": "stdout",
     "output_type": "stream",
     "text": [
      "[62]rec loss: 0.0097 |sim loss: 0.0006|adv loss: 0.7077 |sd loss: 0.6926     |D(real): 0.69 |D(fake): 0.69 |D(G(fake)): 0.49\n"
     ]
    },
    {
     "data": {
      "application/vnd.jupyter.widget-view+json": {
       "model_id": "e716bc4dd45747cf9440d80c4d6bfd0e",
       "version_major": 2,
       "version_minor": 0
      },
      "text/plain": [
       "HBox(children=(IntProgress(value=0, description='BATCH', max=600), HTML(value='')))"
      ]
     },
     "metadata": {},
     "output_type": "display_data"
    },
    {
     "name": "stdout",
     "output_type": "stream",
     "text": [
      "[63]rec loss: 0.0099 |sim loss: 0.0007|adv loss: 0.7123 |sd loss: 0.6917     |D(real): 0.69 |D(fake): 0.69 |D(G(fake)): 0.49\n"
     ]
    },
    {
     "data": {
      "application/vnd.jupyter.widget-view+json": {
       "model_id": "e29d5897dedb4376adfd9dec451a7513",
       "version_major": 2,
       "version_minor": 0
      },
      "text/plain": [
       "HBox(children=(IntProgress(value=0, description='BATCH', max=600), HTML(value='')))"
      ]
     },
     "metadata": {},
     "output_type": "display_data"
    },
    {
     "name": "stdout",
     "output_type": "stream",
     "text": [
      "[64]rec loss: 0.0096 |sim loss: 0.0007|adv loss: 0.7100 |sd loss: 0.6917     |D(real): 0.69 |D(fake): 0.69 |D(G(fake)): 0.49\n"
     ]
    },
    {
     "data": {
      "application/vnd.jupyter.widget-view+json": {
       "model_id": "8f2d8dba3a1b45af82bf7cc224be8b2d",
       "version_major": 2,
       "version_minor": 0
      },
      "text/plain": [
       "HBox(children=(IntProgress(value=0, description='BATCH', max=600), HTML(value='')))"
      ]
     },
     "metadata": {},
     "output_type": "display_data"
    },
    {
     "name": "stdout",
     "output_type": "stream",
     "text": [
      "[65]rec loss: 0.0097 |sim loss: 0.0006|adv loss: 0.7126 |sd loss: 0.6927     |D(real): 0.69 |D(fake): 0.69 |D(G(fake)): 0.49\n"
     ]
    },
    {
     "data": {
      "application/vnd.jupyter.widget-view+json": {
       "model_id": "53c505dbe249458ba982330f27d98490",
       "version_major": 2,
       "version_minor": 0
      },
      "text/plain": [
       "HBox(children=(IntProgress(value=0, description='BATCH', max=600), HTML(value='')))"
      ]
     },
     "metadata": {},
     "output_type": "display_data"
    },
    {
     "name": "stdout",
     "output_type": "stream",
     "text": [
      "[66]rec loss: 0.0096 |sim loss: 0.0006|adv loss: 0.7041 |sd loss: 0.6919     |D(real): 0.69 |D(fake): 0.69 |D(G(fake)): 0.50\n"
     ]
    },
    {
     "data": {
      "application/vnd.jupyter.widget-view+json": {
       "model_id": "4101997d922843209d0639903c2e8bf0",
       "version_major": 2,
       "version_minor": 0
      },
      "text/plain": [
       "HBox(children=(IntProgress(value=0, description='BATCH', max=600), HTML(value='')))"
      ]
     },
     "metadata": {},
     "output_type": "display_data"
    },
    {
     "name": "stdout",
     "output_type": "stream",
     "text": [
      "[67]rec loss: 0.0095 |sim loss: 0.0007|adv loss: 0.7107 |sd loss: 0.6924     |D(real): 0.69 |D(fake): 0.69 |D(G(fake)): 0.49\n"
     ]
    },
    {
     "data": {
      "application/vnd.jupyter.widget-view+json": {
       "model_id": "baf9cca02366463b91f1919daf1094fe",
       "version_major": 2,
       "version_minor": 0
      },
      "text/plain": [
       "HBox(children=(IntProgress(value=0, description='BATCH', max=600), HTML(value='')))"
      ]
     },
     "metadata": {},
     "output_type": "display_data"
    },
    {
     "name": "stdout",
     "output_type": "stream",
     "text": [
      "[68]rec loss: 0.0094 |sim loss: 0.0006|adv loss: 0.7107 |sd loss: 0.6919     |D(real): 0.69 |D(fake): 0.69 |D(G(fake)): 0.49\n"
     ]
    },
    {
     "data": {
      "application/vnd.jupyter.widget-view+json": {
       "model_id": "841ad8e3ee3c4dbca5ae568033c1eb21",
       "version_major": 2,
       "version_minor": 0
      },
      "text/plain": [
       "HBox(children=(IntProgress(value=0, description='BATCH', max=600), HTML(value='')))"
      ]
     },
     "metadata": {},
     "output_type": "display_data"
    },
    {
     "name": "stdout",
     "output_type": "stream",
     "text": [
      "[69]rec loss: 0.0094 |sim loss: 0.0006|adv loss: 0.7100 |sd loss: 0.6927     |D(real): 0.69 |D(fake): 0.69 |D(G(fake)): 0.49\n"
     ]
    },
    {
     "data": {
      "application/vnd.jupyter.widget-view+json": {
       "model_id": "f53c2a5693714f179670ea443145b114",
       "version_major": 2,
       "version_minor": 0
      },
      "text/plain": [
       "HBox(children=(IntProgress(value=0, description='BATCH', max=600), HTML(value='')))"
      ]
     },
     "metadata": {},
     "output_type": "display_data"
    },
    {
     "name": "stdout",
     "output_type": "stream",
     "text": [
      "[70]rec loss: 0.0094 |sim loss: 0.0006|adv loss: 0.7089 |sd loss: 0.6925     |D(real): 0.69 |D(fake): 0.69 |D(G(fake)): 0.49\n"
     ]
    },
    {
     "data": {
      "application/vnd.jupyter.widget-view+json": {
       "model_id": "79b5ac9cf37a4710b228c6a777420b78",
       "version_major": 2,
       "version_minor": 0
      },
      "text/plain": [
       "HBox(children=(IntProgress(value=0, description='BATCH', max=600), HTML(value='')))"
      ]
     },
     "metadata": {},
     "output_type": "display_data"
    },
    {
     "name": "stdout",
     "output_type": "stream",
     "text": [
      "[71]rec loss: 0.0094 |sim loss: 0.0006|adv loss: 0.7142 |sd loss: 0.6924     |D(real): 0.69 |D(fake): 0.69 |D(G(fake)): 0.49\n"
     ]
    },
    {
     "data": {
      "application/vnd.jupyter.widget-view+json": {
       "model_id": "f733fe00b4ea426e8dc09fb0fa31db6e",
       "version_major": 2,
       "version_minor": 0
      },
      "text/plain": [
       "HBox(children=(IntProgress(value=0, description='BATCH', max=600), HTML(value='')))"
      ]
     },
     "metadata": {},
     "output_type": "display_data"
    },
    {
     "name": "stdout",
     "output_type": "stream",
     "text": [
      "[72]rec loss: 0.0093 |sim loss: 0.0006|adv loss: 0.7043 |sd loss: 0.6928     |D(real): 0.69 |D(fake): 0.69 |D(G(fake)): 0.50\n"
     ]
    },
    {
     "data": {
      "application/vnd.jupyter.widget-view+json": {
       "model_id": "32d704517cd2405ab4240acb35fe35ac",
       "version_major": 2,
       "version_minor": 0
      },
      "text/plain": [
       "HBox(children=(IntProgress(value=0, description='BATCH', max=600), HTML(value='')))"
      ]
     },
     "metadata": {},
     "output_type": "display_data"
    },
    {
     "name": "stdout",
     "output_type": "stream",
     "text": [
      "[73]rec loss: 0.0092 |sim loss: 0.0006|adv loss: 0.7053 |sd loss: 0.6927     |D(real): 0.69 |D(fake): 0.69 |D(G(fake)): 0.50\n"
     ]
    },
    {
     "data": {
      "application/vnd.jupyter.widget-view+json": {
       "model_id": "c73e185ef42a4a8780eba0743d43ae16",
       "version_major": 2,
       "version_minor": 0
      },
      "text/plain": [
       "HBox(children=(IntProgress(value=0, description='BATCH', max=600), HTML(value='')))"
      ]
     },
     "metadata": {},
     "output_type": "display_data"
    },
    {
     "name": "stdout",
     "output_type": "stream",
     "text": [
      "[74]rec loss: 0.0093 |sim loss: 0.0006|adv loss: 0.7063 |sd loss: 0.6931     |D(real): 0.69 |D(fake): 0.69 |D(G(fake)): 0.50\n"
     ]
    },
    {
     "data": {
      "application/vnd.jupyter.widget-view+json": {
       "model_id": "a7fc2ee09ab6462498ca02a382956f16",
       "version_major": 2,
       "version_minor": 0
      },
      "text/plain": [
       "HBox(children=(IntProgress(value=0, description='BATCH', max=600), HTML(value='')))"
      ]
     },
     "metadata": {},
     "output_type": "display_data"
    },
    {
     "name": "stdout",
     "output_type": "stream",
     "text": [
      "[75]rec loss: 0.0091 |sim loss: 0.0006|adv loss: 0.7041 |sd loss: 0.6926     |D(real): 0.69 |D(fake): 0.69 |D(G(fake)): 0.50\n"
     ]
    },
    {
     "data": {
      "application/vnd.jupyter.widget-view+json": {
       "model_id": "949c4d8b65794c9981bfa59970f34353",
       "version_major": 2,
       "version_minor": 0
      },
      "text/plain": [
       "HBox(children=(IntProgress(value=0, description='BATCH', max=600), HTML(value='')))"
      ]
     },
     "metadata": {},
     "output_type": "display_data"
    },
    {
     "name": "stdout",
     "output_type": "stream",
     "text": [
      "[76]rec loss: 0.0091 |sim loss: 0.0006|adv loss: 0.7061 |sd loss: 0.6929     |D(real): 0.69 |D(fake): 0.69 |D(G(fake)): 0.49\n"
     ]
    },
    {
     "data": {
      "application/vnd.jupyter.widget-view+json": {
       "model_id": "a835e2f97a7e41fd8259bb86df492e37",
       "version_major": 2,
       "version_minor": 0
      },
      "text/plain": [
       "HBox(children=(IntProgress(value=0, description='BATCH', max=600), HTML(value='')))"
      ]
     },
     "metadata": {},
     "output_type": "display_data"
    },
    {
     "name": "stdout",
     "output_type": "stream",
     "text": [
      "[77]rec loss: 0.0091 |sim loss: 0.0006|adv loss: 0.7065 |sd loss: 0.6926     |D(real): 0.69 |D(fake): 0.69 |D(G(fake)): 0.49\n"
     ]
    },
    {
     "data": {
      "application/vnd.jupyter.widget-view+json": {
       "model_id": "3c0b72b1055f460f80261e7b9a73e7f9",
       "version_major": 2,
       "version_minor": 0
      },
      "text/plain": [
       "HBox(children=(IntProgress(value=0, description='BATCH', max=600), HTML(value='')))"
      ]
     },
     "metadata": {},
     "output_type": "display_data"
    },
    {
     "name": "stdout",
     "output_type": "stream",
     "text": [
      "[78]rec loss: 0.0090 |sim loss: 0.0006|adv loss: 0.7024 |sd loss: 0.6927     |D(real): 0.69 |D(fake): 0.69 |D(G(fake)): 0.50\n"
     ]
    },
    {
     "data": {
      "application/vnd.jupyter.widget-view+json": {
       "model_id": "addceba60c7d457cbce5aab13e04fb3f",
       "version_major": 2,
       "version_minor": 0
      },
      "text/plain": [
       "HBox(children=(IntProgress(value=0, description='BATCH', max=600), HTML(value='')))"
      ]
     },
     "metadata": {},
     "output_type": "display_data"
    },
    {
     "name": "stdout",
     "output_type": "stream",
     "text": [
      "[79]rec loss: 0.0091 |sim loss: 0.0006|adv loss: 0.7057 |sd loss: 0.6928     |D(real): 0.69 |D(fake): 0.69 |D(G(fake)): 0.50\n"
     ]
    },
    {
     "data": {
      "application/vnd.jupyter.widget-view+json": {
       "model_id": "a831fcb8cf394ddda26cbf5e98082225",
       "version_major": 2,
       "version_minor": 0
      },
      "text/plain": [
       "HBox(children=(IntProgress(value=0, description='BATCH', max=600), HTML(value='')))"
      ]
     },
     "metadata": {},
     "output_type": "display_data"
    },
    {
     "name": "stdout",
     "output_type": "stream",
     "text": [
      "[80]rec loss: 0.0092 |sim loss: 0.0007|adv loss: 0.7092 |sd loss: 0.6924     |D(real): 0.69 |D(fake): 0.69 |D(G(fake)): 0.49\n"
     ]
    },
    {
     "data": {
      "application/vnd.jupyter.widget-view+json": {
       "model_id": "99f8d8e8b3e149a5b116e39c1a43884c",
       "version_major": 2,
       "version_minor": 0
      },
      "text/plain": [
       "HBox(children=(IntProgress(value=0, description='BATCH', max=600), HTML(value='')))"
      ]
     },
     "metadata": {},
     "output_type": "display_data"
    },
    {
     "name": "stdout",
     "output_type": "stream",
     "text": [
      "[81]rec loss: 0.0092 |sim loss: 0.0007|adv loss: 0.7102 |sd loss: 0.6924     |D(real): 0.69 |D(fake): 0.69 |D(G(fake)): 0.49\n"
     ]
    },
    {
     "data": {
      "application/vnd.jupyter.widget-view+json": {
       "model_id": "32c15973a5184cd0a8e67ca140957978",
       "version_major": 2,
       "version_minor": 0
      },
      "text/plain": [
       "HBox(children=(IntProgress(value=0, description='BATCH', max=600), HTML(value='')))"
      ]
     },
     "metadata": {},
     "output_type": "display_data"
    },
    {
     "name": "stdout",
     "output_type": "stream",
     "text": [
      "[82]rec loss: 0.0089 |sim loss: 0.0006|adv loss: 0.7024 |sd loss: 0.6932     |D(real): 0.69 |D(fake): 0.69 |D(G(fake)): 0.50\n"
     ]
    },
    {
     "data": {
      "application/vnd.jupyter.widget-view+json": {
       "model_id": "f18350c2764d4545a111c2239d3fe331",
       "version_major": 2,
       "version_minor": 0
      },
      "text/plain": [
       "HBox(children=(IntProgress(value=0, description='BATCH', max=600), HTML(value='')))"
      ]
     },
     "metadata": {},
     "output_type": "display_data"
    },
    {
     "name": "stdout",
     "output_type": "stream",
     "text": [
      "[83]rec loss: 0.0090 |sim loss: 0.0006|adv loss: 0.7061 |sd loss: 0.6924     |D(real): 0.69 |D(fake): 0.69 |D(G(fake)): 0.49\n"
     ]
    },
    {
     "data": {
      "application/vnd.jupyter.widget-view+json": {
       "model_id": "2ad9af98cd8b40d5a9b4618dfd441362",
       "version_major": 2,
       "version_minor": 0
      },
      "text/plain": [
       "HBox(children=(IntProgress(value=0, description='BATCH', max=600), HTML(value='')))"
      ]
     },
     "metadata": {},
     "output_type": "display_data"
    },
    {
     "name": "stdout",
     "output_type": "stream",
     "text": [
      "[84]rec loss: 0.0090 |sim loss: 0.0006|adv loss: 0.7092 |sd loss: 0.6926     |D(real): 0.69 |D(fake): 0.69 |D(G(fake)): 0.49\n"
     ]
    },
    {
     "data": {
      "application/vnd.jupyter.widget-view+json": {
       "model_id": "cf049e2a38d64abe88faea4e42a65d9f",
       "version_major": 2,
       "version_minor": 0
      },
      "text/plain": [
       "HBox(children=(IntProgress(value=0, description='BATCH', max=600), HTML(value='')))"
      ]
     },
     "metadata": {},
     "output_type": "display_data"
    },
    {
     "name": "stdout",
     "output_type": "stream",
     "text": [
      "[85]rec loss: 0.0089 |sim loss: 0.0006|adv loss: 0.7056 |sd loss: 0.6923     |D(real): 0.69 |D(fake): 0.69 |D(G(fake)): 0.50\n"
     ]
    },
    {
     "data": {
      "application/vnd.jupyter.widget-view+json": {
       "model_id": "331294d9c4a54b0b969f306271266efc",
       "version_major": 2,
       "version_minor": 0
      },
      "text/plain": [
       "HBox(children=(IntProgress(value=0, description='BATCH', max=600), HTML(value='')))"
      ]
     },
     "metadata": {},
     "output_type": "display_data"
    },
    {
     "name": "stdout",
     "output_type": "stream",
     "text": [
      "[86]rec loss: 0.0089 |sim loss: 0.0006|adv loss: 0.7063 |sd loss: 0.6925     |D(real): 0.69 |D(fake): 0.69 |D(G(fake)): 0.49\n"
     ]
    },
    {
     "data": {
      "application/vnd.jupyter.widget-view+json": {
       "model_id": "1345a30f6bbc4e988a27c4a3b6da3798",
       "version_major": 2,
       "version_minor": 0
      },
      "text/plain": [
       "HBox(children=(IntProgress(value=0, description='BATCH', max=600), HTML(value='')))"
      ]
     },
     "metadata": {},
     "output_type": "display_data"
    },
    {
     "name": "stdout",
     "output_type": "stream",
     "text": [
      "[87]rec loss: 0.0089 |sim loss: 0.0006|adv loss: 0.7057 |sd loss: 0.6927     |D(real): 0.69 |D(fake): 0.69 |D(G(fake)): 0.50\n"
     ]
    },
    {
     "data": {
      "application/vnd.jupyter.widget-view+json": {
       "model_id": "49a2ee3372034ef5bb02b62b45c48470",
       "version_major": 2,
       "version_minor": 0
      },
      "text/plain": [
       "HBox(children=(IntProgress(value=0, description='BATCH', max=600), HTML(value='')))"
      ]
     },
     "metadata": {},
     "output_type": "display_data"
    }
   ],
   "source": [
    "epoch_size = len(train_loader)\n",
    "test_x = next(iter(test_loader))\n",
    "test_x = torch.transpose(test_x, 0, 1)\n",
    "test_x = test_x.to(device)\n",
    "\n",
    "for epoch in tqdm_notebook(range(200), desc='EPOCH'):\n",
    "    netEP.train()\n",
    "    netEC.train()\n",
    "    netD.train()\n",
    "    netC.train()\n",
    "    epoch_sim_loss, epoch_rec_loss, epoch_adv_loss, epoch_sd_loss = 0, 0, 0, 0\n",
    "    epoch_D_real, epoch_D_fake, epoch_D_G_fake = 0, 0, 0\n",
    "    \n",
    "    for i, x in enumerate(tqdm_notebook(train_loader, desc='BATCH')):\n",
    "        # x to device\n",
    "        x = torch.transpose(x, 0, 1)\n",
    "        x = x.to(device)\n",
    "        \n",
    "        # train scene discriminator\n",
    "        # sd_loss, sd_acc = train_scene_discriminator(x)\n",
    "        sd_loss, D_real, D_fake = train_discriminator(x)\n",
    "        epoch_sd_loss += sd_loss\n",
    "        epoch_D_real += D_real\n",
    "        epoch_D_fake += D_fake\n",
    "        \n",
    "        # train main model\n",
    "        sim_loss, rec_loss, adv_loss, D_G_fake = train(x)\n",
    "        epoch_sim_loss += sim_loss\n",
    "        epoch_rec_loss += rec_loss\n",
    "        epoch_adv_loss += adv_loss\n",
    "        epoch_D_G_fake += D_G_fake\n",
    "    \n",
    "    log_str='[%02d]rec loss: %.4f |sim loss: %.4f|adv loss: %.4f |sd loss: %.4f \\\n",
    "|D(real): %.2f |D(fake): %.2f |D(G(fake)): %.2f' %\\\n",
    "    (epoch,\n",
    "     epoch_rec_loss/epoch_size,\n",
    "     epoch_sim_loss/epoch_size,\n",
    "     epoch_adv_loss/epoch_size,\n",
    "     epoch_sd_loss/epoch_size,\n",
    "     epoch_D_real/epoch_size,\n",
    "     epoch_D_fake/epoch_size,\n",
    "     epoch_D_G_fake/epoch_size)\n",
    "    \n",
    "    print(log_str)\n",
    "    logging.info(log_str)\n",
    "    \n",
    "    netEP.eval()\n",
    "    netEC.eval()\n",
    "    netD.eval()\n",
    "    \n",
    "    with torch.no_grad():\n",
    "        plot_rec(test_x, epoch, 'test')\n",
    "        plot_analogy(test_x, epoch, 'test')\n",
    "\n",
    "    # save the model\n",
    "    torch.save({\n",
    "        'netD': netD,\n",
    "        'netEP': netEP,\n",
    "        'netEC': netEC},\n",
    "        '%s/model.pth' % log_dir)"
   ]
  },
  {
   "cell_type": "code",
   "execution_count": null,
   "metadata": {},
   "outputs": [],
   "source": [
    "len(train_loader)"
   ]
  },
  {
   "cell_type": "code",
   "execution_count": null,
   "metadata": {},
   "outputs": [],
   "source": [
    "for i, x in enumerate(train_loader):\n",
    "    if i == 0:\n",
    "        with torch.no_grad():\n",
    "            x = torch.transpose(x, 0, 1)\n",
    "            x = x.to(device)\n",
    "            plot_rec(x, 200)\n",
    "            plot_analogy(x, 200)"
   ]
  },
  {
   "cell_type": "code",
   "execution_count": null,
   "metadata": {},
   "outputs": [],
   "source": []
  }
 ],
 "metadata": {
  "kernelspec": {
   "display_name": "Python 3",
   "language": "python",
   "name": "python3"
  },
  "language_info": {
   "codemirror_mode": {
    "name": "ipython",
    "version": 3
   },
   "file_extension": ".py",
   "mimetype": "text/x-python",
   "name": "python",
   "nbconvert_exporter": "python",
   "pygments_lexer": "ipython3",
   "version": "3.7.2"
  }
 },
 "nbformat": 4,
 "nbformat_minor": 2
}
