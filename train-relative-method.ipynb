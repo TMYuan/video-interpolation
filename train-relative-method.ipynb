{
 "cells": [
  {
   "cell_type": "code",
   "execution_count": 1,
   "metadata": {},
   "outputs": [],
   "source": [
    "import logging\n",
    "import torch\n",
    "import torch.optim as optim\n",
    "import torch.nn as nn\n",
    "import torch.nn.functional as F\n",
    "import argparse\n",
    "import os\n",
    "import random\n",
    "import numpy as np\n",
    "from torch.autograd import Variable\n",
    "from torch.utils.data import DataLoader\n",
    "import utils\n",
    "import itertools\n",
    "from tqdm import tqdm_notebook\n",
    "import models.dcgan_unet_64 as dcgan_unet_models\n",
    "import models.dcgan_64 as dcgan_models\n",
    "import models.classifiers as classifiers\n",
    "import models.my_model as my_model\n",
    "from data.moving_mnist import MovingMNIST"
   ]
  },
  {
   "cell_type": "code",
   "execution_count": 2,
   "metadata": {},
   "outputs": [],
   "source": [
    "torch.cuda.set_device(0)"
   ]
  },
  {
   "cell_type": "markdown",
   "metadata": {},
   "source": [
    "Constant definition"
   ]
  },
  {
   "cell_type": "code",
   "execution_count": 3,
   "metadata": {},
   "outputs": [],
   "source": [
    "np.random.seed(1)\n",
    "random.seed(1)\n",
    "torch.manual_seed(1)\n",
    "torch.cuda.manual_seed_all(1)\n",
    "device = torch.device(\"cuda\" if torch.cuda.is_available() else \"cpu\")"
   ]
  },
  {
   "cell_type": "code",
   "execution_count": 4,
   "metadata": {},
   "outputs": [],
   "source": [
    "lr = 2e-3\n",
    "seq_len = 12\n",
    "beta1 = 0.5\n",
    "content_dim = 128\n",
    "pose_dim = 50\n",
    "channels = 3\n",
    "normalize = False\n",
    "sd_nf = 100\n",
    "image_width = 64\n",
    "batch_size = 100\n",
    "log_dir = './logs/0610_newCVAEStructure_singleFeature_dualPred_identityMapping_bigTripletLen/'\n",
    "os.makedirs(os.path.join(log_dir, 'rec'), exist_ok=True)\n",
    "os.makedirs(os.path.join(log_dir, 'analogy'), exist_ok=True)\n",
    "os.makedirs(os.path.join(log_dir, 'eval'), exist_ok=True)\n",
    "logging.basicConfig(filename=os.path.join(log_dir, 'record.txt'), level=logging.DEBUG)"
   ]
  },
  {
   "cell_type": "markdown",
   "metadata": {},
   "source": [
    "Data Loader"
   ]
  },
  {
   "cell_type": "code",
   "execution_count": 5,
   "metadata": {},
   "outputs": [],
   "source": [
    "train_data = MovingMNIST(True, '../data_uni/', seq_len=seq_len)\n",
    "test_data = MovingMNIST(False, '../data_uni/', seq_len=seq_len)\n",
    "\n",
    "train_loader = DataLoader(\n",
    "    train_data,\n",
    "    batch_size=batch_size,\n",
    "    num_workers=16,\n",
    "    shuffle=True,\n",
    "    drop_last=True,\n",
    "    pin_memory=True\n",
    ")\n",
    "test_loader = DataLoader(\n",
    "    test_data,\n",
    "    batch_size=batch_size,\n",
    "    num_workers=0,\n",
    "    shuffle=True,\n",
    "    drop_last=True,\n",
    "    pin_memory=True\n",
    ")"
   ]
  },
  {
   "cell_type": "markdown",
   "metadata": {},
   "source": [
    "Model definition"
   ]
  },
  {
   "cell_type": "code",
   "execution_count": 6,
   "metadata": {},
   "outputs": [
    {
     "name": "stdout",
     "output_type": "stream",
     "text": [
      "motion_encoder(\n",
      "  (main): Sequential(\n",
      "    (0): dcgan_conv(\n",
      "      (main): Sequential(\n",
      "        (0): Conv2d(6, 64, kernel_size=(4, 4), stride=(2, 2), padding=(1, 1), bias=False)\n",
      "        (1): BatchNorm2d(64, eps=1e-05, momentum=0.1, affine=True, track_running_stats=True)\n",
      "        (2): ReLU(inplace)\n",
      "      )\n",
      "    )\n",
      "    (1): dcgan_conv(\n",
      "      (main): Sequential(\n",
      "        (0): Conv2d(64, 128, kernel_size=(4, 4), stride=(2, 2), padding=(1, 1), bias=False)\n",
      "        (1): BatchNorm2d(128, eps=1e-05, momentum=0.1, affine=True, track_running_stats=True)\n",
      "        (2): ReLU(inplace)\n",
      "      )\n",
      "    )\n",
      "    (2): dcgan_conv(\n",
      "      (main): Sequential(\n",
      "        (0): Conv2d(128, 256, kernel_size=(4, 4), stride=(2, 2), padding=(1, 1), bias=False)\n",
      "        (1): BatchNorm2d(256, eps=1e-05, momentum=0.1, affine=True, track_running_stats=True)\n",
      "        (2): ReLU(inplace)\n",
      "      )\n",
      "    )\n",
      "    (3): dcgan_conv(\n",
      "      (main): Sequential(\n",
      "        (0): Conv2d(256, 512, kernel_size=(4, 4), stride=(2, 2), padding=(1, 1), bias=False)\n",
      "        (1): BatchNorm2d(512, eps=1e-05, momentum=0.1, affine=True, track_running_stats=True)\n",
      "        (2): ReLU(inplace)\n",
      "      )\n",
      "    )\n",
      "    (4): Conv2d(512, 50, kernel_size=(4, 4), stride=(1, 1), bias=False)\n",
      "    (5): BatchNorm2d(50, eps=1e-05, momentum=0.1, affine=True, track_running_stats=True)\n",
      "    (6): Tanh()\n",
      "  )\n",
      ")\n",
      "Generator(\n",
      "  (encoder): encoder(\n",
      "    (c1): dcgan_conv(\n",
      "      (main): Sequential(\n",
      "        (0): Conv2d(5, 64, kernel_size=(4, 4), stride=(2, 2), padding=(1, 1), bias=False)\n",
      "        (1): BatchNorm2d(64, eps=1e-05, momentum=0.1, affine=True, track_running_stats=True)\n",
      "        (2): ReLU(inplace)\n",
      "      )\n",
      "    )\n",
      "    (c2): dcgan_conv(\n",
      "      (main): Sequential(\n",
      "        (0): Conv2d(66, 128, kernel_size=(4, 4), stride=(2, 2), padding=(1, 1), bias=False)\n",
      "        (1): BatchNorm2d(128, eps=1e-05, momentum=0.1, affine=True, track_running_stats=True)\n",
      "        (2): ReLU(inplace)\n",
      "      )\n",
      "    )\n",
      "    (c3): dcgan_conv(\n",
      "      (main): Sequential(\n",
      "        (0): Conv2d(130, 256, kernel_size=(4, 4), stride=(2, 2), padding=(1, 1), bias=False)\n",
      "        (1): BatchNorm2d(256, eps=1e-05, momentum=0.1, affine=True, track_running_stats=True)\n",
      "        (2): ReLU(inplace)\n",
      "      )\n",
      "    )\n",
      "    (c4): dcgan_conv(\n",
      "      (main): Sequential(\n",
      "        (0): Conv2d(258, 512, kernel_size=(4, 4), stride=(2, 2), padding=(1, 1), bias=False)\n",
      "        (1): BatchNorm2d(512, eps=1e-05, momentum=0.1, affine=True, track_running_stats=True)\n",
      "        (2): ReLU(inplace)\n",
      "      )\n",
      "    )\n",
      "    (c5): Sequential(\n",
      "      (0): Conv2d(514, 128, kernel_size=(4, 4), stride=(1, 1), bias=False)\n",
      "      (1): BatchNorm2d(128, eps=1e-05, momentum=0.1, affine=True, track_running_stats=True)\n",
      "      (2): Tanh()\n",
      "    )\n",
      "  )\n",
      "  (decoder): decoder(\n",
      "    (u1): Sequential(\n",
      "      (0): ConvTranspose2d(178, 512, kernel_size=(4, 4), stride=(1, 1), bias=False)\n",
      "      (1): BatchNorm2d(512, eps=1e-05, momentum=0.1, affine=True, track_running_stats=True)\n",
      "      (2): ReLU(inplace)\n",
      "    )\n",
      "    (u2): dcgan_upconv(\n",
      "      (main): Sequential(\n",
      "        (0): ConvTranspose2d(514, 256, kernel_size=(4, 4), stride=(2, 2), padding=(1, 1), bias=False)\n",
      "        (1): BatchNorm2d(256, eps=1e-05, momentum=0.1, affine=True, track_running_stats=True)\n",
      "        (2): ReLU(inplace)\n",
      "      )\n",
      "    )\n",
      "    (u3): dcgan_upconv(\n",
      "      (main): Sequential(\n",
      "        (0): ConvTranspose2d(258, 128, kernel_size=(4, 4), stride=(2, 2), padding=(1, 1), bias=False)\n",
      "        (1): BatchNorm2d(128, eps=1e-05, momentum=0.1, affine=True, track_running_stats=True)\n",
      "        (2): ReLU(inplace)\n",
      "      )\n",
      "    )\n",
      "    (u4): dcgan_upconv(\n",
      "      (main): Sequential(\n",
      "        (0): ConvTranspose2d(130, 64, kernel_size=(4, 4), stride=(2, 2), padding=(1, 1), bias=False)\n",
      "        (1): BatchNorm2d(64, eps=1e-05, momentum=0.1, affine=True, track_running_stats=True)\n",
      "        (2): ReLU(inplace)\n",
      "      )\n",
      "    )\n",
      "    (u5): Sequential(\n",
      "      (0): ConvTranspose2d(66, 3, kernel_size=(4, 4), stride=(2, 2), padding=(1, 1), bias=False)\n",
      "      (1): Sigmoid()\n",
      "    )\n",
      "  )\n",
      ")\n"
     ]
    }
   ],
   "source": [
    "netEM = my_model.motion_encoder(pose_dim, 2*channels).to(device)\n",
    "netG = my_model.Generator(content_dim, pose_dim, channels).to(device)\n",
    "\n",
    "netEM.apply(utils.weights_init)\n",
    "netG.apply(utils.weights_init)\n",
    "\n",
    "print(netEM)\n",
    "print(netG)"
   ]
  },
  {
   "cell_type": "code",
   "execution_count": 7,
   "metadata": {},
   "outputs": [],
   "source": [
    "optimizerEM = optim.Adam(netEM.parameters(), lr=lr, betas=(beta1, 0.999))\n",
    "optimizerG = optim.Adam(netG.parameters(), lr=lr, betas=(beta1, 0.999))"
   ]
  },
  {
   "cell_type": "markdown",
   "metadata": {},
   "source": [
    "Plot function"
   ]
  },
  {
   "cell_type": "code",
   "execution_count": 8,
   "metadata": {},
   "outputs": [],
   "source": [
    "# --------- plotting funtions ------------------------------------\n",
    "def plot_rec(x, epoch, dtype):\n",
    "    x_c = x[np.random.randint(len(x))]\n",
    "    x_p = x[np.random.randint(len(x))]\n",
    "\n",
    "    h_m = netEM(torch.cat([x_c, x_p], dim=1))\n",
    "    rec = netG(x_c, h_m)\n",
    "\n",
    "    x_c, x_p, rec = x_c.data, x_p.data, rec.data\n",
    "    fname = '{}-{}.png'.format(dtype, epoch)\n",
    "    fname = os.path.join(log_dir, 'rec', fname)\n",
    "    to_plot = []\n",
    "    row_sz = 5\n",
    "    nplot = 20\n",
    "    for i in range(0, nplot-row_sz, row_sz):\n",
    "        row = [[xc, xp, xr] for xc, xp, xr in zip(x_c[i:i+row_sz], x_p[i:i+row_sz], rec[i:i+row_sz])]\n",
    "        to_plot.append(list(itertools.chain(*row)))\n",
    "    utils.save_tensors_image(fname, to_plot)\n",
    "\n",
    "def plot_analogy(x, epoch, dtype):\n",
    "    x_c = x[0]\n",
    "    h_c = netEC(x_c)\n",
    "    \n",
    "    nrow = 10\n",
    "    row_sz = len(x)\n",
    "    to_plot = []\n",
    "    row = [xi[0].data for xi in x]\n",
    "    zeros = torch.zeros(channels, image_width, image_width)\n",
    "    to_plot.append([zeros] + row)\n",
    "    for i in range(nrow):\n",
    "        to_plot.append([x[0][i].data])\n",
    "\n",
    "    for j in range(0, row_sz):\n",
    "        # for each time step\n",
    "        h_p = netEP(x[j], h_c).data\n",
    "        # first 10 pose vector, equal to first pose vector\n",
    "        for i in range(nrow):\n",
    "            h_p[i] = h_p[0]\n",
    "        rec = netD([h_c, h_p])\n",
    "        for i in range(nrow):\n",
    "            to_plot[i+1].append(rec[i].data.clone())\n",
    "\n",
    "    fname = '{}-{}.png'.format(dtype, epoch)\n",
    "    fname = os.path.join(log_dir, 'analogy', fname)\n",
    "    utils.save_tensors_image(fname, to_plot)\n",
    "    \n",
    "def plot_eval(x, epoch, dtype, triplet_len=None):\n",
    "    # Get triplet\n",
    "    if triplet_len is None:\n",
    "        triplet_len = np.random.randint(1, 4)\n",
    "    idx_c = np.random.randint(triplet_len, len(x)-triplet_len)\n",
    "    x_c = x[idx_c]\n",
    "    x_future = x[idx_c + triplet_len]\n",
    "    x_past = x[idx_c - triplet_len]\n",
    "\n",
    "    # task 1: reconstruct x_future'\n",
    "    #         use -h_future to predict x_past'\n",
    "    h_future = netEM(torch.cat([x_c, x_future], dim=1))\n",
    "    rec_future = netG(x_c, h_future)\n",
    "    pred_past = netG(x_c, -h_future)\n",
    "    \n",
    "    # task 2: reconstruct x_past'\n",
    "    #         use -h_past to predict x_future'\n",
    "    h_past = netEM(torch.cat([x_c, x_past], dim=1))\n",
    "    rec_past = netG(x_c, h_past)\n",
    "    pred_future = netG(x_c, -h_past)\n",
    "\n",
    "    x_c, x_future, x_past = x_c.data, x_future.data, x_past.data\n",
    "    rec_future, pred_past = rec_future.data, pred_past.data\n",
    "    rec_past, pred_future = rec_past.data, pred_future.data\n",
    "    fname = '{}-{}.png'.format(dtype, epoch)\n",
    "    fname = os.path.join(log_dir, 'eval', fname)\n",
    "    \n",
    "    to_plot = []\n",
    "    row_sz = 1\n",
    "    nplot = 10\n",
    "    for i in range(0, 10, row_sz):\n",
    "        row = [\n",
    "            [x_past[i], x_c[i], x_future[i], pred_past[i], x_c[i], rec_future[i], rec_past[i], x_c[i], pred_future[i]]\n",
    "        ]\n",
    "        to_plot.append(list(itertools.chain(*row)))\n",
    "    utils.save_tensors_image(fname, to_plot)"
   ]
  },
  {
   "cell_type": "markdown",
   "metadata": {},
   "source": [
    "Training function"
   ]
  },
  {
   "cell_type": "code",
   "execution_count": 9,
   "metadata": {},
   "outputs": [],
   "source": [
    "def train(x):\n",
    "    optimizerEM.zero_grad()\n",
    "    optimizerG.zero_grad()\n",
    "\n",
    "    # regular\n",
    "    # randomly pick motion image\n",
    "    triplet_len = np.random.randint(1, len(x)//2)\n",
    "    idx_c = np.random.randint(triplet_len, len(x)-triplet_len)\n",
    "    \n",
    "    x_c = x[idx_c]\n",
    "    x_p = x[np.random.randint(len(x))]\n",
    "    if np.random.rand() > 0.5:\n",
    "        x_past = x[idx_c - triplet_len]\n",
    "        x_future = x[idx_c + triplet_len]\n",
    "    else:\n",
    "        x_past = x[idx_c + triplet_len]\n",
    "        x_future = x[idx_c - triplet_len]\n",
    "    \n",
    "    # reconstruction loss: ||D(h_c1, h_p1), x_p1|| \n",
    "    h_m = netEM(torch.cat([x_c, x_p], dim=1))\n",
    "    rec = netG(x_c, h_m)\n",
    "    \n",
    "    # Use triplet, forward, backward loss\n",
    "    # task 1: pred past\n",
    "    # task 2: pred future\n",
    "    # task 3: identity mapping\n",
    "    h_future = netEM(torch.cat([x_c, x_future], dim=1))\n",
    "    pred_past = netG(x_c, -h_future)\n",
    "    \n",
    "    h_past = netEM(torch.cat([x_c, x_past], dim=1))\n",
    "    pred_future = netG(x_c, -h_past)\n",
    "    \n",
    "    h_zero = torch.zeros_like(h_past)\n",
    "    rec_id = netG(x_c, h_zero)\n",
    "    \n",
    "    # full loss\n",
    "    rec_loss = F.mse_loss(rec, x_p)\n",
    "    pred_loss = F.mse_loss(pred_future, x_future) + F.mse_loss(pred_past, x_past)\n",
    "    id_loss = F.mse_loss(rec_id, x_c)\n",
    "    reverse_loss = F.mse_loss(h_past, -h_future.detach())\n",
    "    loss = rec_loss + pred_loss + id_loss + reverse_loss\n",
    "    loss.backward()\n",
    "\n",
    "    optimizerEM.step()\n",
    "    optimizerG.step()\n",
    "\n",
    "    return rec_loss.item(), pred_loss.item(), id_loss.item(), reverse_loss.item()"
   ]
  },
  {
   "cell_type": "code",
   "execution_count": null,
   "metadata": {},
   "outputs": [
    {
     "data": {
      "application/vnd.jupyter.widget-view+json": {
       "model_id": "94be496be3d340daa24674a8e9f27218",
       "version_major": 2,
       "version_minor": 0
      },
      "text/plain": [
       "HBox(children=(IntProgress(value=0, description='EPOCH', max=200), HTML(value='')))"
      ]
     },
     "metadata": {},
     "output_type": "display_data"
    },
    {
     "data": {
      "application/vnd.jupyter.widget-view+json": {
       "model_id": "07da3bb95d134a22adcbc993b222ccda",
       "version_major": 2,
       "version_minor": 0
      },
      "text/plain": [
       "HBox(children=(IntProgress(value=0, description='BATCH', max=600), HTML(value='')))"
      ]
     },
     "metadata": {},
     "output_type": "display_data"
    },
    {
     "name": "stdout",
     "output_type": "stream",
     "text": [
      "[00]rec loss: 0.0140| pred loss: 0.0279| identity loss: 0.0100| reverse loss: 0.0660\n"
     ]
    },
    {
     "data": {
      "application/vnd.jupyter.widget-view+json": {
       "model_id": "32ffac096e42487bb93c19436772c851",
       "version_major": 2,
       "version_minor": 0
      },
      "text/plain": [
       "HBox(children=(IntProgress(value=0, description='BATCH', max=600), HTML(value='')))"
      ]
     },
     "metadata": {},
     "output_type": "display_data"
    },
    {
     "name": "stdout",
     "output_type": "stream",
     "text": [
      "[01]rec loss: 0.0106| pred loss: 0.0221| identity loss: 0.0042| reverse loss: 0.0083\n"
     ]
    },
    {
     "data": {
      "application/vnd.jupyter.widget-view+json": {
       "model_id": "15cc472784cb484ba2572c02a78be8f5",
       "version_major": 2,
       "version_minor": 0
      },
      "text/plain": [
       "HBox(children=(IntProgress(value=0, description='BATCH', max=600), HTML(value='')))"
      ]
     },
     "metadata": {},
     "output_type": "display_data"
    },
    {
     "name": "stdout",
     "output_type": "stream",
     "text": [
      "[02]rec loss: 0.0089| pred loss: 0.0202| identity loss: 0.0032| reverse loss: 0.0029\n"
     ]
    },
    {
     "data": {
      "application/vnd.jupyter.widget-view+json": {
       "model_id": "29c3ce924d6343149e29845982686694",
       "version_major": 2,
       "version_minor": 0
      },
      "text/plain": [
       "HBox(children=(IntProgress(value=0, description='BATCH', max=600), HTML(value='')))"
      ]
     },
     "metadata": {},
     "output_type": "display_data"
    },
    {
     "name": "stdout",
     "output_type": "stream",
     "text": [
      "[03]rec loss: 0.0078| pred loss: 0.0184| identity loss: 0.0027| reverse loss: 0.0009\n"
     ]
    },
    {
     "data": {
      "application/vnd.jupyter.widget-view+json": {
       "model_id": "0372144fe5c446c4baaa2de88fab44f3",
       "version_major": 2,
       "version_minor": 0
      },
      "text/plain": [
       "HBox(children=(IntProgress(value=0, description='BATCH', max=600), HTML(value='')))"
      ]
     },
     "metadata": {},
     "output_type": "display_data"
    },
    {
     "name": "stdout",
     "output_type": "stream",
     "text": [
      "[04]rec loss: 0.0070| pred loss: 0.0180| identity loss: 0.0024| reverse loss: 0.0005\n"
     ]
    },
    {
     "data": {
      "application/vnd.jupyter.widget-view+json": {
       "model_id": "478c1799d8794d9494e631b0ce74e8f3",
       "version_major": 2,
       "version_minor": 0
      },
      "text/plain": [
       "HBox(children=(IntProgress(value=0, description='BATCH', max=600), HTML(value='')))"
      ]
     },
     "metadata": {},
     "output_type": "display_data"
    },
    {
     "name": "stdout",
     "output_type": "stream",
     "text": [
      "[05]rec loss: 0.0065| pred loss: 0.0170| identity loss: 0.0022| reverse loss: 0.0004\n"
     ]
    },
    {
     "data": {
      "application/vnd.jupyter.widget-view+json": {
       "model_id": "b2e947e6b65e4c39aee303707d8058b5",
       "version_major": 2,
       "version_minor": 0
      },
      "text/plain": [
       "HBox(children=(IntProgress(value=0, description='BATCH', max=600), HTML(value='')))"
      ]
     },
     "metadata": {},
     "output_type": "display_data"
    },
    {
     "name": "stdout",
     "output_type": "stream",
     "text": [
      "[06]rec loss: 0.0061| pred loss: 0.0168| identity loss: 0.0020| reverse loss: 0.0004\n"
     ]
    },
    {
     "data": {
      "application/vnd.jupyter.widget-view+json": {
       "model_id": "9c0975fe918e4b75940a7cc0b27df726",
       "version_major": 2,
       "version_minor": 0
      },
      "text/plain": [
       "HBox(children=(IntProgress(value=0, description='BATCH', max=600), HTML(value='')))"
      ]
     },
     "metadata": {},
     "output_type": "display_data"
    },
    {
     "name": "stdout",
     "output_type": "stream",
     "text": [
      "[07]rec loss: 0.0058| pred loss: 0.0163| identity loss: 0.0019| reverse loss: 0.0003\n"
     ]
    },
    {
     "data": {
      "application/vnd.jupyter.widget-view+json": {
       "model_id": "cd54ac8074234efbb0df569ec5fbe05e",
       "version_major": 2,
       "version_minor": 0
      },
      "text/plain": [
       "HBox(children=(IntProgress(value=0, description='BATCH', max=600), HTML(value='')))"
      ]
     },
     "metadata": {},
     "output_type": "display_data"
    },
    {
     "name": "stdout",
     "output_type": "stream",
     "text": [
      "[08]rec loss: 0.0054| pred loss: 0.0162| identity loss: 0.0018| reverse loss: 0.0003\n"
     ]
    },
    {
     "data": {
      "application/vnd.jupyter.widget-view+json": {
       "model_id": "33a778952faa43e1b937a5acf01c67b4",
       "version_major": 2,
       "version_minor": 0
      },
      "text/plain": [
       "HBox(children=(IntProgress(value=0, description='BATCH', max=600), HTML(value='')))"
      ]
     },
     "metadata": {},
     "output_type": "display_data"
    },
    {
     "name": "stdout",
     "output_type": "stream",
     "text": [
      "[09]rec loss: 0.0054| pred loss: 0.0157| identity loss: 0.0017| reverse loss: 0.0003\n"
     ]
    },
    {
     "data": {
      "application/vnd.jupyter.widget-view+json": {
       "model_id": "3edac3be12b04d45a0ed4f38ea486446",
       "version_major": 2,
       "version_minor": 0
      },
      "text/plain": [
       "HBox(children=(IntProgress(value=0, description='BATCH', max=600), HTML(value='')))"
      ]
     },
     "metadata": {},
     "output_type": "display_data"
    },
    {
     "name": "stdout",
     "output_type": "stream",
     "text": [
      "[10]rec loss: 0.0051| pred loss: 0.0156| identity loss: 0.0017| reverse loss: 0.0003\n"
     ]
    },
    {
     "data": {
      "application/vnd.jupyter.widget-view+json": {
       "model_id": "662ce5f20e024e65a77b832dce8bc5b9",
       "version_major": 2,
       "version_minor": 0
      },
      "text/plain": [
       "HBox(children=(IntProgress(value=0, description='BATCH', max=600), HTML(value='')))"
      ]
     },
     "metadata": {},
     "output_type": "display_data"
    },
    {
     "name": "stdout",
     "output_type": "stream",
     "text": [
      "[11]rec loss: 0.0050| pred loss: 0.0152| identity loss: 0.0016| reverse loss: 0.0003\n"
     ]
    },
    {
     "data": {
      "application/vnd.jupyter.widget-view+json": {
       "model_id": "c9dd23dd6cca4dd09a344c9acdce66a6",
       "version_major": 2,
       "version_minor": 0
      },
      "text/plain": [
       "HBox(children=(IntProgress(value=0, description='BATCH', max=600), HTML(value='')))"
      ]
     },
     "metadata": {},
     "output_type": "display_data"
    },
    {
     "name": "stdout",
     "output_type": "stream",
     "text": [
      "[12]rec loss: 0.0049| pred loss: 0.0149| identity loss: 0.0016| reverse loss: 0.0003\n"
     ]
    },
    {
     "data": {
      "application/vnd.jupyter.widget-view+json": {
       "model_id": "317cfa82c48a45e5a1170c4347a5550c",
       "version_major": 2,
       "version_minor": 0
      },
      "text/plain": [
       "HBox(children=(IntProgress(value=0, description='BATCH', max=600), HTML(value='')))"
      ]
     },
     "metadata": {},
     "output_type": "display_data"
    },
    {
     "name": "stdout",
     "output_type": "stream",
     "text": [
      "[13]rec loss: 0.0048| pred loss: 0.0147| identity loss: 0.0015| reverse loss: 0.0003\n"
     ]
    },
    {
     "data": {
      "application/vnd.jupyter.widget-view+json": {
       "model_id": "9078c6b9427d4e1399e1171d441b96f4",
       "version_major": 2,
       "version_minor": 0
      },
      "text/plain": [
       "HBox(children=(IntProgress(value=0, description='BATCH', max=600), HTML(value='')))"
      ]
     },
     "metadata": {},
     "output_type": "display_data"
    },
    {
     "name": "stdout",
     "output_type": "stream",
     "text": [
      "[14]rec loss: 0.0047| pred loss: 0.0154| identity loss: 0.0015| reverse loss: 0.0003\n"
     ]
    },
    {
     "data": {
      "application/vnd.jupyter.widget-view+json": {
       "model_id": "ead49b5397064076a17dd787d1300aaf",
       "version_major": 2,
       "version_minor": 0
      },
      "text/plain": [
       "HBox(children=(IntProgress(value=0, description='BATCH', max=600), HTML(value='')))"
      ]
     },
     "metadata": {},
     "output_type": "display_data"
    },
    {
     "name": "stdout",
     "output_type": "stream",
     "text": [
      "[15]rec loss: 0.0046| pred loss: 0.0150| identity loss: 0.0015| reverse loss: 0.0003\n"
     ]
    },
    {
     "data": {
      "application/vnd.jupyter.widget-view+json": {
       "model_id": "f809f73526df4530a8fe92a7dd602dba",
       "version_major": 2,
       "version_minor": 0
      },
      "text/plain": [
       "HBox(children=(IntProgress(value=0, description='BATCH', max=600), HTML(value='')))"
      ]
     },
     "metadata": {},
     "output_type": "display_data"
    },
    {
     "name": "stdout",
     "output_type": "stream",
     "text": [
      "[16]rec loss: 0.0045| pred loss: 0.0149| identity loss: 0.0014| reverse loss: 0.0003\n"
     ]
    },
    {
     "data": {
      "application/vnd.jupyter.widget-view+json": {
       "model_id": "20ed0473c0564b25a330e7ef4c550144",
       "version_major": 2,
       "version_minor": 0
      },
      "text/plain": [
       "HBox(children=(IntProgress(value=0, description='BATCH', max=600), HTML(value='')))"
      ]
     },
     "metadata": {},
     "output_type": "display_data"
    },
    {
     "name": "stdout",
     "output_type": "stream",
     "text": [
      "[17]rec loss: 0.0043| pred loss: 0.0144| identity loss: 0.0014| reverse loss: 0.0003\n"
     ]
    },
    {
     "data": {
      "application/vnd.jupyter.widget-view+json": {
       "model_id": "16761166e46c45728af81d9c26f7222d",
       "version_major": 2,
       "version_minor": 0
      },
      "text/plain": [
       "HBox(children=(IntProgress(value=0, description='BATCH', max=600), HTML(value='')))"
      ]
     },
     "metadata": {},
     "output_type": "display_data"
    },
    {
     "name": "stdout",
     "output_type": "stream",
     "text": [
      "[18]rec loss: 0.0043| pred loss: 0.0147| identity loss: 0.0014| reverse loss: 0.0003\n"
     ]
    },
    {
     "data": {
      "application/vnd.jupyter.widget-view+json": {
       "model_id": "ff77ef393ca94c2688e5cd064f039d8e",
       "version_major": 2,
       "version_minor": 0
      },
      "text/plain": [
       "HBox(children=(IntProgress(value=0, description='BATCH', max=600), HTML(value='')))"
      ]
     },
     "metadata": {},
     "output_type": "display_data"
    },
    {
     "name": "stdout",
     "output_type": "stream",
     "text": [
      "[19]rec loss: 0.0042| pred loss: 0.0140| identity loss: 0.0014| reverse loss: 0.0003\n"
     ]
    },
    {
     "data": {
      "application/vnd.jupyter.widget-view+json": {
       "model_id": "13ee7bff74344cab8f13a63320561fa2",
       "version_major": 2,
       "version_minor": 0
      },
      "text/plain": [
       "HBox(children=(IntProgress(value=0, description='BATCH', max=600), HTML(value='')))"
      ]
     },
     "metadata": {},
     "output_type": "display_data"
    },
    {
     "name": "stdout",
     "output_type": "stream",
     "text": [
      "[20]rec loss: 0.0041| pred loss: 0.0143| identity loss: 0.0014| reverse loss: 0.0003\n"
     ]
    },
    {
     "data": {
      "application/vnd.jupyter.widget-view+json": {
       "model_id": "4b979ad698d740a8b54951e0c6123421",
       "version_major": 2,
       "version_minor": 0
      },
      "text/plain": [
       "HBox(children=(IntProgress(value=0, description='BATCH', max=600), HTML(value='')))"
      ]
     },
     "metadata": {},
     "output_type": "display_data"
    },
    {
     "name": "stdout",
     "output_type": "stream",
     "text": [
      "[21]rec loss: 0.0042| pred loss: 0.0141| identity loss: 0.0013| reverse loss: 0.0003\n"
     ]
    },
    {
     "data": {
      "application/vnd.jupyter.widget-view+json": {
       "model_id": "da164184532e4b028c0e98959d9880ee",
       "version_major": 2,
       "version_minor": 0
      },
      "text/plain": [
       "HBox(children=(IntProgress(value=0, description='BATCH', max=600), HTML(value='')))"
      ]
     },
     "metadata": {},
     "output_type": "display_data"
    },
    {
     "name": "stdout",
     "output_type": "stream",
     "text": [
      "[22]rec loss: 0.0040| pred loss: 0.0139| identity loss: 0.0013| reverse loss: 0.0003\n"
     ]
    },
    {
     "data": {
      "application/vnd.jupyter.widget-view+json": {
       "model_id": "eab23b8dcc9b48c88d6be3c41901d726",
       "version_major": 2,
       "version_minor": 0
      },
      "text/plain": [
       "HBox(children=(IntProgress(value=0, description='BATCH', max=600), HTML(value='')))"
      ]
     },
     "metadata": {},
     "output_type": "display_data"
    },
    {
     "name": "stdout",
     "output_type": "stream",
     "text": [
      "[23]rec loss: 0.0040| pred loss: 0.0142| identity loss: 0.0013| reverse loss: 0.0003\n"
     ]
    },
    {
     "data": {
      "application/vnd.jupyter.widget-view+json": {
       "model_id": "528069aaed624bdc86f43bf4e4fed094",
       "version_major": 2,
       "version_minor": 0
      },
      "text/plain": [
       "HBox(children=(IntProgress(value=0, description='BATCH', max=600), HTML(value='')))"
      ]
     },
     "metadata": {},
     "output_type": "display_data"
    },
    {
     "name": "stdout",
     "output_type": "stream",
     "text": [
      "[24]rec loss: 0.0039| pred loss: 0.0137| identity loss: 0.0013| reverse loss: 0.0003\n"
     ]
    },
    {
     "data": {
      "application/vnd.jupyter.widget-view+json": {
       "model_id": "1540891ff3d3495297d9e0b2dcf7f01a",
       "version_major": 2,
       "version_minor": 0
      },
      "text/plain": [
       "HBox(children=(IntProgress(value=0, description='BATCH', max=600), HTML(value='')))"
      ]
     },
     "metadata": {},
     "output_type": "display_data"
    },
    {
     "name": "stdout",
     "output_type": "stream",
     "text": [
      "[25]rec loss: 0.0039| pred loss: 0.0133| identity loss: 0.0013| reverse loss: 0.0003\n"
     ]
    },
    {
     "data": {
      "application/vnd.jupyter.widget-view+json": {
       "model_id": "0416aedd69f54b919e8d9754730234d2",
       "version_major": 2,
       "version_minor": 0
      },
      "text/plain": [
       "HBox(children=(IntProgress(value=0, description='BATCH', max=600), HTML(value='')))"
      ]
     },
     "metadata": {},
     "output_type": "display_data"
    },
    {
     "name": "stdout",
     "output_type": "stream",
     "text": [
      "[26]rec loss: 0.0039| pred loss: 0.0135| identity loss: 0.0013| reverse loss: 0.0003\n"
     ]
    },
    {
     "data": {
      "application/vnd.jupyter.widget-view+json": {
       "model_id": "87f3e0ad293340048166efa7f61edd8d",
       "version_major": 2,
       "version_minor": 0
      },
      "text/plain": [
       "HBox(children=(IntProgress(value=0, description='BATCH', max=600), HTML(value='')))"
      ]
     },
     "metadata": {},
     "output_type": "display_data"
    },
    {
     "name": "stdout",
     "output_type": "stream",
     "text": [
      "[27]rec loss: 0.0038| pred loss: 0.0132| identity loss: 0.0013| reverse loss: 0.0003\n"
     ]
    },
    {
     "data": {
      "application/vnd.jupyter.widget-view+json": {
       "model_id": "375952fa6c21432db6b421a0c93a6d3a",
       "version_major": 2,
       "version_minor": 0
      },
      "text/plain": [
       "HBox(children=(IntProgress(value=0, description='BATCH', max=600), HTML(value='')))"
      ]
     },
     "metadata": {},
     "output_type": "display_data"
    },
    {
     "name": "stdout",
     "output_type": "stream",
     "text": [
      "[28]rec loss: 0.0036| pred loss: 0.0139| identity loss: 0.0013| reverse loss: 0.0004\n"
     ]
    },
    {
     "data": {
      "application/vnd.jupyter.widget-view+json": {
       "model_id": "28bbf616e6d64be3a8fd5e4b1c653262",
       "version_major": 2,
       "version_minor": 0
      },
      "text/plain": [
       "HBox(children=(IntProgress(value=0, description='BATCH', max=600), HTML(value='')))"
      ]
     },
     "metadata": {},
     "output_type": "display_data"
    },
    {
     "name": "stdout",
     "output_type": "stream",
     "text": [
      "[29]rec loss: 0.0037| pred loss: 0.0132| identity loss: 0.0012| reverse loss: 0.0003\n"
     ]
    },
    {
     "data": {
      "application/vnd.jupyter.widget-view+json": {
       "model_id": "eb178b94d5e94edab2319ac4243df041",
       "version_major": 2,
       "version_minor": 0
      },
      "text/plain": [
       "HBox(children=(IntProgress(value=0, description='BATCH', max=600), HTML(value='')))"
      ]
     },
     "metadata": {},
     "output_type": "display_data"
    },
    {
     "name": "stdout",
     "output_type": "stream",
     "text": [
      "[30]rec loss: 0.0036| pred loss: 0.0134| identity loss: 0.0012| reverse loss: 0.0003\n"
     ]
    },
    {
     "data": {
      "application/vnd.jupyter.widget-view+json": {
       "model_id": "8b313f06b59a4b37af4361c1f6005ffc",
       "version_major": 2,
       "version_minor": 0
      },
      "text/plain": [
       "HBox(children=(IntProgress(value=0, description='BATCH', max=600), HTML(value='')))"
      ]
     },
     "metadata": {},
     "output_type": "display_data"
    },
    {
     "name": "stdout",
     "output_type": "stream",
     "text": [
      "[31]rec loss: 0.0035| pred loss: 0.0137| identity loss: 0.0012| reverse loss: 0.0004\n"
     ]
    },
    {
     "data": {
      "application/vnd.jupyter.widget-view+json": {
       "model_id": "db816995598c43a7a8b31918e5c4a69f",
       "version_major": 2,
       "version_minor": 0
      },
      "text/plain": [
       "HBox(children=(IntProgress(value=0, description='BATCH', max=600), HTML(value='')))"
      ]
     },
     "metadata": {},
     "output_type": "display_data"
    },
    {
     "name": "stdout",
     "output_type": "stream",
     "text": [
      "[32]rec loss: 0.0036| pred loss: 0.0135| identity loss: 0.0012| reverse loss: 0.0004\n"
     ]
    },
    {
     "data": {
      "application/vnd.jupyter.widget-view+json": {
       "model_id": "66f3f61f031a4d0db95a04215b2efdc1",
       "version_major": 2,
       "version_minor": 0
      },
      "text/plain": [
       "HBox(children=(IntProgress(value=0, description='BATCH', max=600), HTML(value='')))"
      ]
     },
     "metadata": {},
     "output_type": "display_data"
    },
    {
     "name": "stdout",
     "output_type": "stream",
     "text": [
      "[33]rec loss: 0.0035| pred loss: 0.0129| identity loss: 0.0012| reverse loss: 0.0003\n"
     ]
    },
    {
     "data": {
      "application/vnd.jupyter.widget-view+json": {
       "model_id": "915a0fceb7d947109a7a8a59ff1041f1",
       "version_major": 2,
       "version_minor": 0
      },
      "text/plain": [
       "HBox(children=(IntProgress(value=0, description='BATCH', max=600), HTML(value='')))"
      ]
     },
     "metadata": {},
     "output_type": "display_data"
    },
    {
     "name": "stdout",
     "output_type": "stream",
     "text": [
      "[34]rec loss: 0.0034| pred loss: 0.0132| identity loss: 0.0012| reverse loss: 0.0003\n"
     ]
    },
    {
     "data": {
      "application/vnd.jupyter.widget-view+json": {
       "model_id": "563ec22da7e7420c83e6b7c834907fc0",
       "version_major": 2,
       "version_minor": 0
      },
      "text/plain": [
       "HBox(children=(IntProgress(value=0, description='BATCH', max=600), HTML(value='')))"
      ]
     },
     "metadata": {},
     "output_type": "display_data"
    },
    {
     "name": "stdout",
     "output_type": "stream",
     "text": [
      "[35]rec loss: 0.0035| pred loss: 0.0130| identity loss: 0.0012| reverse loss: 0.0003\n"
     ]
    },
    {
     "data": {
      "application/vnd.jupyter.widget-view+json": {
       "model_id": "0f8bc40a4c52458e8ab641f5011a838f",
       "version_major": 2,
       "version_minor": 0
      },
      "text/plain": [
       "HBox(children=(IntProgress(value=0, description='BATCH', max=600), HTML(value='')))"
      ]
     },
     "metadata": {},
     "output_type": "display_data"
    },
    {
     "name": "stdout",
     "output_type": "stream",
     "text": [
      "[36]rec loss: 0.0034| pred loss: 0.0131| identity loss: 0.0012| reverse loss: 0.0003\n"
     ]
    },
    {
     "data": {
      "application/vnd.jupyter.widget-view+json": {
       "model_id": "37580bacd5984ffcbc668ae4290d8138",
       "version_major": 2,
       "version_minor": 0
      },
      "text/plain": [
       "HBox(children=(IntProgress(value=0, description='BATCH', max=600), HTML(value='')))"
      ]
     },
     "metadata": {},
     "output_type": "display_data"
    },
    {
     "name": "stdout",
     "output_type": "stream",
     "text": [
      "[37]rec loss: 0.0034| pred loss: 0.0128| identity loss: 0.0012| reverse loss: 0.0003\n"
     ]
    },
    {
     "data": {
      "application/vnd.jupyter.widget-view+json": {
       "model_id": "997b094d103849658e8cab792a4f521d",
       "version_major": 2,
       "version_minor": 0
      },
      "text/plain": [
       "HBox(children=(IntProgress(value=0, description='BATCH', max=600), HTML(value='')))"
      ]
     },
     "metadata": {},
     "output_type": "display_data"
    },
    {
     "name": "stdout",
     "output_type": "stream",
     "text": [
      "[38]rec loss: 0.0033| pred loss: 0.0127| identity loss: 0.0012| reverse loss: 0.0003\n"
     ]
    },
    {
     "data": {
      "application/vnd.jupyter.widget-view+json": {
       "model_id": "20609d69c86e4998b7aaa7cdc4bc2bb1",
       "version_major": 2,
       "version_minor": 0
      },
      "text/plain": [
       "HBox(children=(IntProgress(value=0, description='BATCH', max=600), HTML(value='')))"
      ]
     },
     "metadata": {},
     "output_type": "display_data"
    },
    {
     "name": "stdout",
     "output_type": "stream",
     "text": [
      "[39]rec loss: 0.0033| pred loss: 0.0133| identity loss: 0.0012| reverse loss: 0.0004\n"
     ]
    },
    {
     "data": {
      "application/vnd.jupyter.widget-view+json": {
       "model_id": "339870e62de04586a70c0aecdea9d656",
       "version_major": 2,
       "version_minor": 0
      },
      "text/plain": [
       "HBox(children=(IntProgress(value=0, description='BATCH', max=600), HTML(value='')))"
      ]
     },
     "metadata": {},
     "output_type": "display_data"
    },
    {
     "name": "stdout",
     "output_type": "stream",
     "text": [
      "[40]rec loss: 0.0032| pred loss: 0.0129| identity loss: 0.0012| reverse loss: 0.0003\n"
     ]
    },
    {
     "data": {
      "application/vnd.jupyter.widget-view+json": {
       "model_id": "f84d62138af540baa3ca0493fc65fbf3",
       "version_major": 2,
       "version_minor": 0
      },
      "text/plain": [
       "HBox(children=(IntProgress(value=0, description='BATCH', max=600), HTML(value='')))"
      ]
     },
     "metadata": {},
     "output_type": "display_data"
    },
    {
     "name": "stdout",
     "output_type": "stream",
     "text": [
      "[41]rec loss: 0.0032| pred loss: 0.0131| identity loss: 0.0011| reverse loss: 0.0003\n"
     ]
    },
    {
     "data": {
      "application/vnd.jupyter.widget-view+json": {
       "model_id": "38d236fd94434372980622007cd8c269",
       "version_major": 2,
       "version_minor": 0
      },
      "text/plain": [
       "HBox(children=(IntProgress(value=0, description='BATCH', max=600), HTML(value='')))"
      ]
     },
     "metadata": {},
     "output_type": "display_data"
    },
    {
     "name": "stdout",
     "output_type": "stream",
     "text": [
      "[42]rec loss: 0.0031| pred loss: 0.0127| identity loss: 0.0011| reverse loss: 0.0003\n"
     ]
    },
    {
     "data": {
      "application/vnd.jupyter.widget-view+json": {
       "model_id": "fc2d621d6472432eb3fa86fe101cee54",
       "version_major": 2,
       "version_minor": 0
      },
      "text/plain": [
       "HBox(children=(IntProgress(value=0, description='BATCH', max=600), HTML(value='')))"
      ]
     },
     "metadata": {},
     "output_type": "display_data"
    },
    {
     "name": "stdout",
     "output_type": "stream",
     "text": [
      "[43]rec loss: 0.0031| pred loss: 0.0129| identity loss: 0.0011| reverse loss: 0.0003\n"
     ]
    },
    {
     "data": {
      "application/vnd.jupyter.widget-view+json": {
       "model_id": "80d0cf11c2c34324b59e1d3eb50b5beb",
       "version_major": 2,
       "version_minor": 0
      },
      "text/plain": [
       "HBox(children=(IntProgress(value=0, description='BATCH', max=600), HTML(value='')))"
      ]
     },
     "metadata": {},
     "output_type": "display_data"
    },
    {
     "name": "stdout",
     "output_type": "stream",
     "text": [
      "[44]rec loss: 0.0032| pred loss: 0.0124| identity loss: 0.0011| reverse loss: 0.0003\n"
     ]
    },
    {
     "data": {
      "application/vnd.jupyter.widget-view+json": {
       "model_id": "d1d837f3fc034b9ab5030dfcb7d5f8cc",
       "version_major": 2,
       "version_minor": 0
      },
      "text/plain": [
       "HBox(children=(IntProgress(value=0, description='BATCH', max=600), HTML(value='')))"
      ]
     },
     "metadata": {},
     "output_type": "display_data"
    },
    {
     "name": "stdout",
     "output_type": "stream",
     "text": [
      "[45]rec loss: 0.0031| pred loss: 0.0127| identity loss: 0.0011| reverse loss: 0.0003\n"
     ]
    },
    {
     "data": {
      "application/vnd.jupyter.widget-view+json": {
       "model_id": "5b15cfb2f1f04efb88e3f38b79109bec",
       "version_major": 2,
       "version_minor": 0
      },
      "text/plain": [
       "HBox(children=(IntProgress(value=0, description='BATCH', max=600), HTML(value='')))"
      ]
     },
     "metadata": {},
     "output_type": "display_data"
    },
    {
     "name": "stdout",
     "output_type": "stream",
     "text": [
      "[46]rec loss: 0.0031| pred loss: 0.0125| identity loss: 0.0011| reverse loss: 0.0003\n"
     ]
    },
    {
     "data": {
      "application/vnd.jupyter.widget-view+json": {
       "model_id": "d86050a28afb4b0e850149886d9c977c",
       "version_major": 2,
       "version_minor": 0
      },
      "text/plain": [
       "HBox(children=(IntProgress(value=0, description='BATCH', max=600), HTML(value='')))"
      ]
     },
     "metadata": {},
     "output_type": "display_data"
    },
    {
     "name": "stdout",
     "output_type": "stream",
     "text": [
      "[47]rec loss: 0.0031| pred loss: 0.0126| identity loss: 0.0011| reverse loss: 0.0003\n"
     ]
    },
    {
     "data": {
      "application/vnd.jupyter.widget-view+json": {
       "model_id": "167be62b6f1d47088d3b34d7c00a31cb",
       "version_major": 2,
       "version_minor": 0
      },
      "text/plain": [
       "HBox(children=(IntProgress(value=0, description='BATCH', max=600), HTML(value='')))"
      ]
     },
     "metadata": {},
     "output_type": "display_data"
    },
    {
     "name": "stdout",
     "output_type": "stream",
     "text": [
      "[48]rec loss: 0.0031| pred loss: 0.0127| identity loss: 0.0011| reverse loss: 0.0004\n"
     ]
    },
    {
     "data": {
      "application/vnd.jupyter.widget-view+json": {
       "model_id": "1671367face34625bdafb9594237c707",
       "version_major": 2,
       "version_minor": 0
      },
      "text/plain": [
       "HBox(children=(IntProgress(value=0, description='BATCH', max=600), HTML(value='')))"
      ]
     },
     "metadata": {},
     "output_type": "display_data"
    },
    {
     "name": "stdout",
     "output_type": "stream",
     "text": [
      "[49]rec loss: 0.0031| pred loss: 0.0123| identity loss: 0.0011| reverse loss: 0.0003\n"
     ]
    },
    {
     "data": {
      "application/vnd.jupyter.widget-view+json": {
       "model_id": "3703d181e50e428e875c07197a6709d2",
       "version_major": 2,
       "version_minor": 0
      },
      "text/plain": [
       "HBox(children=(IntProgress(value=0, description='BATCH', max=600), HTML(value='')))"
      ]
     },
     "metadata": {},
     "output_type": "display_data"
    },
    {
     "name": "stdout",
     "output_type": "stream",
     "text": [
      "[50]rec loss: 0.0030| pred loss: 0.0125| identity loss: 0.0011| reverse loss: 0.0003\n"
     ]
    },
    {
     "data": {
      "application/vnd.jupyter.widget-view+json": {
       "model_id": "7b162df4de0b4aa7a421ff49183c6df2",
       "version_major": 2,
       "version_minor": 0
      },
      "text/plain": [
       "HBox(children=(IntProgress(value=0, description='BATCH', max=600), HTML(value='')))"
      ]
     },
     "metadata": {},
     "output_type": "display_data"
    },
    {
     "name": "stdout",
     "output_type": "stream",
     "text": [
      "[51]rec loss: 0.0030| pred loss: 0.0126| identity loss: 0.0011| reverse loss: 0.0003\n"
     ]
    },
    {
     "data": {
      "application/vnd.jupyter.widget-view+json": {
       "model_id": "4f29ca6fb5224a7eb251b56bcf36de2f",
       "version_major": 2,
       "version_minor": 0
      },
      "text/plain": [
       "HBox(children=(IntProgress(value=0, description='BATCH', max=600), HTML(value='')))"
      ]
     },
     "metadata": {},
     "output_type": "display_data"
    },
    {
     "name": "stdout",
     "output_type": "stream",
     "text": [
      "[52]rec loss: 0.0030| pred loss: 0.0123| identity loss: 0.0011| reverse loss: 0.0003\n"
     ]
    },
    {
     "data": {
      "application/vnd.jupyter.widget-view+json": {
       "model_id": "e7127530a48442049171605430086439",
       "version_major": 2,
       "version_minor": 0
      },
      "text/plain": [
       "HBox(children=(IntProgress(value=0, description='BATCH', max=600), HTML(value='')))"
      ]
     },
     "metadata": {},
     "output_type": "display_data"
    },
    {
     "name": "stdout",
     "output_type": "stream",
     "text": [
      "[53]rec loss: 0.0030| pred loss: 0.0125| identity loss: 0.0011| reverse loss: 0.0003\n"
     ]
    },
    {
     "data": {
      "application/vnd.jupyter.widget-view+json": {
       "model_id": "e89a46585adb4cdba74bf5073ac939af",
       "version_major": 2,
       "version_minor": 0
      },
      "text/plain": [
       "HBox(children=(IntProgress(value=0, description='BATCH', max=600), HTML(value='')))"
      ]
     },
     "metadata": {},
     "output_type": "display_data"
    },
    {
     "name": "stdout",
     "output_type": "stream",
     "text": [
      "[54]rec loss: 0.0030| pred loss: 0.0123| identity loss: 0.0011| reverse loss: 0.0003\n"
     ]
    },
    {
     "data": {
      "application/vnd.jupyter.widget-view+json": {
       "model_id": "655ac01824834b7789fea7620401d9a6",
       "version_major": 2,
       "version_minor": 0
      },
      "text/plain": [
       "HBox(children=(IntProgress(value=0, description='BATCH', max=600), HTML(value='')))"
      ]
     },
     "metadata": {},
     "output_type": "display_data"
    },
    {
     "name": "stdout",
     "output_type": "stream",
     "text": [
      "[55]rec loss: 0.0029| pred loss: 0.0126| identity loss: 0.0011| reverse loss: 0.0003\n"
     ]
    },
    {
     "data": {
      "application/vnd.jupyter.widget-view+json": {
       "model_id": "607e0e2030044c72ae557a8d643376cf",
       "version_major": 2,
       "version_minor": 0
      },
      "text/plain": [
       "HBox(children=(IntProgress(value=0, description='BATCH', max=600), HTML(value='')))"
      ]
     },
     "metadata": {},
     "output_type": "display_data"
    },
    {
     "name": "stdout",
     "output_type": "stream",
     "text": [
      "[56]rec loss: 0.0030| pred loss: 0.0122| identity loss: 0.0011| reverse loss: 0.0003\n"
     ]
    },
    {
     "data": {
      "application/vnd.jupyter.widget-view+json": {
       "model_id": "38e5afec84444ee0b0d3a9887a832614",
       "version_major": 2,
       "version_minor": 0
      },
      "text/plain": [
       "HBox(children=(IntProgress(value=0, description='BATCH', max=600), HTML(value='')))"
      ]
     },
     "metadata": {},
     "output_type": "display_data"
    },
    {
     "name": "stdout",
     "output_type": "stream",
     "text": [
      "[57]rec loss: 0.0029| pred loss: 0.0122| identity loss: 0.0011| reverse loss: 0.0003\n"
     ]
    },
    {
     "data": {
      "application/vnd.jupyter.widget-view+json": {
       "model_id": "a3cae8f620814a67bc591f79e21ca607",
       "version_major": 2,
       "version_minor": 0
      },
      "text/plain": [
       "HBox(children=(IntProgress(value=0, description='BATCH', max=600), HTML(value='')))"
      ]
     },
     "metadata": {},
     "output_type": "display_data"
    },
    {
     "name": "stdout",
     "output_type": "stream",
     "text": [
      "[58]rec loss: 0.0029| pred loss: 0.0127| identity loss: 0.0011| reverse loss: 0.0004\n"
     ]
    },
    {
     "data": {
      "application/vnd.jupyter.widget-view+json": {
       "model_id": "65f89aae98d94820872ff480ea199da6",
       "version_major": 2,
       "version_minor": 0
      },
      "text/plain": [
       "HBox(children=(IntProgress(value=0, description='BATCH', max=600), HTML(value='')))"
      ]
     },
     "metadata": {},
     "output_type": "display_data"
    }
   ],
   "source": [
    "epoch_size = len(train_loader)\n",
    "test_x = next(iter(test_loader))\n",
    "test_x = torch.transpose(test_x, 0, 1)\n",
    "test_x = test_x.to(device)\n",
    "\n",
    "for epoch in tqdm_notebook(range(200), desc='EPOCH'):\n",
    "    netEM.train()\n",
    "    netG.train()\n",
    "    epoch_id_loss, epoch_rec_loss, epoch_reverse_loss, epoch_pred_loss = 0, 0, 0, 0\n",
    "#     epoch_D_real, epoch_D_fake, epoch_D_G_fake = 0, 0, 0\n",
    "    \n",
    "    for i, x in enumerate(tqdm_notebook(train_loader, desc='BATCH')):\n",
    "        # x to device\n",
    "        x = torch.transpose(x, 0, 1)\n",
    "        x = x.to(device)\n",
    "        \n",
    "        # train main model\n",
    "        rec_loss, pred_loss, id_loss, reverse_loss = train(x)\n",
    "        epoch_rec_loss += rec_loss\n",
    "        epoch_pred_loss += pred_loss\n",
    "        epoch_id_loss += id_loss\n",
    "        epoch_reverse_loss += reverse_loss\n",
    "    \n",
    "    log_str='[%02d]rec loss: %.4f| pred loss: %.4f| identity loss: %.4f| reverse loss: %.4f' %\\\n",
    "    (epoch,\n",
    "     epoch_rec_loss/epoch_size,\n",
    "     epoch_pred_loss/epoch_size,\n",
    "     epoch_id_loss/epoch_size,\n",
    "     epoch_reverse_loss/epoch_size,\n",
    "     )\n",
    "    \n",
    "    print(log_str)\n",
    "    logging.info(log_str)\n",
    "    \n",
    "    netEM.eval()\n",
    "    netG.eval()\n",
    "    \n",
    "    with torch.no_grad():\n",
    "        plot_rec(test_x, epoch, 'test')\n",
    "        plot_eval(test_x, epoch, 'test')\n",
    "#         plot_analogy(test_x, epoch, 'test')\n",
    "\n",
    "    # save the model\n",
    "    torch.save({\n",
    "        'netEM': netEM,\n",
    "        'netG': netG,\n",
    "        },\n",
    "        '%s/model.pth' % log_dir)"
   ]
  },
  {
   "cell_type": "markdown",
   "metadata": {},
   "source": [
    "Make evaluation"
   ]
  },
  {
   "cell_type": "code",
   "execution_count": null,
   "metadata": {},
   "outputs": [],
   "source": [
    "with torch.no_grad():\n",
    "    plot_eval(test_x, 'final-1', 'eval', 1)\n",
    "    plot_eval(test_x, 'final-2', 'eval', 2)\n",
    "    plot_eval(test_x, 'final-3', 'eval', 3)"
   ]
  },
  {
   "cell_type": "code",
   "execution_count": null,
   "metadata": {},
   "outputs": [],
   "source": []
  }
 ],
 "metadata": {
  "kernelspec": {
   "display_name": "Python 3",
   "language": "python",
   "name": "python3"
  },
  "language_info": {
   "codemirror_mode": {
    "name": "ipython",
    "version": 3
   },
   "file_extension": ".py",
   "mimetype": "text/x-python",
   "name": "python",
   "nbconvert_exporter": "python",
   "pygments_lexer": "ipython3",
   "version": "3.6.5"
  }
 },
 "nbformat": 4,
 "nbformat_minor": 2
}
